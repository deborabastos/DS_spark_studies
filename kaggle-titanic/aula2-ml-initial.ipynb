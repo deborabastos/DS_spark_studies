{
 "cells": [
  {
   "cell_type": "code",
   "execution_count": 80,
   "id": "a3550062",
   "metadata": {},
   "outputs": [
    {
     "data": {
      "text/plain": [
       "'3.3.0'"
      ]
     },
     "execution_count": 80,
     "metadata": {},
     "output_type": "execute_result"
    }
   ],
   "source": [
    "from pyspark.sql import SparkSession\n",
    "\n",
    "spark = SparkSession \\\n",
    "        .builder \\\n",
    "        .appName(\"Aula Interativa 2 - ML\") \\\n",
    "        .getOrCreate()\n",
    "\n",
    "spark.version"
   ]
  },
  {
   "cell_type": "code",
   "execution_count": 81,
   "id": "502cdf73",
   "metadata": {},
   "outputs": [
    {
     "name": "stdout",
     "output_type": "stream",
     "text": [
      "root\n",
      " |-- PassengerId: integer (nullable = true)\n",
      " |-- Survived: integer (nullable = true)\n",
      " |-- Pclass: integer (nullable = true)\n",
      " |-- Name: string (nullable = true)\n",
      " |-- Sex: string (nullable = true)\n",
      " |-- Age: double (nullable = true)\n",
      " |-- SibSp: integer (nullable = true)\n",
      " |-- Parch: integer (nullable = true)\n",
      " |-- Ticket: string (nullable = true)\n",
      " |-- Fare: double (nullable = true)\n",
      " |-- Cabin: string (nullable = true)\n",
      " |-- Embarked: string (nullable = true)\n",
      "\n"
     ]
    }
   ],
   "source": [
    "titanic_df = spark.read.csv('/home/pcalais/XPE/cientista-dados/aula2/titanic.csv', header='True', inferSchema='True')\n",
    "\n",
    "titanic_df.printSchema()"
   ]
  },
  {
   "cell_type": "code",
   "execution_count": 97,
   "id": "47ed65bd",
   "metadata": {},
   "outputs": [],
   "source": [
    "from pyspark.ml.feature import StringIndexer, OneHotEncoder\n",
    "\n",
    "sex_indexer = StringIndexer(inputCol='Sex', outputCol='SexIndexer')\n",
    "\n",
    "sex_encoder = OneHotEncoder(inputCol='SexIndexer', outputCol='SexVector')"
   ]
  },
  {
   "cell_type": "code",
   "execution_count": 98,
   "id": "ef8f8785",
   "metadata": {},
   "outputs": [],
   "source": [
    "from pyspark.ml.feature import VectorAssembler\n",
    "\n",
    "assembler = VectorAssembler(inputCols=['Age', 'Pclass', 'Fare', 'SexVector'], outputCol='features')\n"
   ]
  },
  {
   "cell_type": "code",
   "execution_count": null,
   "id": "8cb7cd54",
   "metadata": {},
   "outputs": [],
   "source": []
  },
  {
   "cell_type": "code",
   "execution_count": 99,
   "id": "09e22b83",
   "metadata": {},
   "outputs": [],
   "source": [
    "from pyspark.ml.classification import DecisionTreeClassifier\n",
    "\n",
    "classifier = DecisionTreeClassifier(labelCol='Survived', featuresCol='features')"
   ]
  },
  {
   "cell_type": "code",
   "execution_count": 100,
   "id": "eb650f0b",
   "metadata": {},
   "outputs": [],
   "source": [
    "from pyspark.ml import Pipeline\n",
    "\n",
    "pipeline = Pipeline(stages=[sex_indexer, sex_encoder, assembler, classifier])"
   ]
  },
  {
   "cell_type": "code",
   "execution_count": 101,
   "id": "73bb9205",
   "metadata": {},
   "outputs": [],
   "source": [
    "train_data, test_data = titanic_df.randomSplit([0.7, 0.3])"
   ]
  },
  {
   "cell_type": "code",
   "execution_count": 102,
   "id": "72c9332d",
   "metadata": {},
   "outputs": [],
   "source": [
    "predictSurvivedModel = pipeline.fit(train_data)"
   ]
  },
  {
   "cell_type": "code",
   "execution_count": 87,
   "id": "6563e950",
   "metadata": {},
   "outputs": [
    {
     "data": {
      "text/plain": [
       "29.69911764705882"
      ]
     },
     "execution_count": 87,
     "metadata": {},
     "output_type": "execute_result"
    }
   ],
   "source": [
    "mean_age = titanic_df.agg({'Age': 'mean'}).collect()[0][0]\n",
    "mean_age"
   ]
  },
  {
   "cell_type": "code",
   "execution_count": 88,
   "id": "ca6af02a",
   "metadata": {},
   "outputs": [],
   "source": [
    "titanic_df = titanic_df.fillna(mean_age, subset=['Age'])"
   ]
  },
  {
   "cell_type": "code",
   "execution_count": 89,
   "id": "d40cc60a",
   "metadata": {},
   "outputs": [],
   "source": [
    "train_data, test_data = titanic_df.randomSplit([0.7, 0.3])\n",
    "predictSurvivedModel = pipeline.fit(train_data)"
   ]
  },
  {
   "cell_type": "code",
   "execution_count": 109,
   "id": "afcd4bb2",
   "metadata": {},
   "outputs": [
    {
     "name": "stdout",
     "output_type": "stream",
     "text": [
      "+-----------+--------+------+-----------------+------+-------------+----------+\n",
      "|passengerId|    fare|pclass|              age|   sex|rawPrediction|prediction|\n",
      "+-----------+--------+------+-----------------+------+-------------+----------+\n",
      "|          2| 71.2833|     1|             38.0|female|  [7.0,111.0]|       1.0|\n",
      "|         11|    16.7|     3|              4.0|female|  [16.0,21.0]|       1.0|\n",
      "|         17|  29.125|     3|              2.0|  male|    [1.0,4.0]|       1.0|\n",
      "|         21|    26.0|     2|             35.0|  male| [268.0,35.0]|       0.0|\n",
      "|         22|    13.0|     2|             34.0|  male| [268.0,35.0]|       0.0|\n",
      "|         23|  8.0292|     3|             15.0|female|    [9.0,3.0]|       0.0|\n",
      "|         27|   7.225|     3|29.69911764705882|  male| [268.0,35.0]|       0.0|\n",
      "|         28|   263.0|     1|             19.0|  male|  [65.0,30.0]|       0.0|\n",
      "|         32|146.5208|     1|29.69911764705882|female|  [7.0,111.0]|       1.0|\n",
      "|         34|    10.5|     2|             66.0|  male| [268.0,35.0]|       0.0|\n",
      "|         44| 41.5792|     2|              3.0|female|    [1.0,0.0]|       0.0|\n",
      "|         47|    15.5|     3|29.69911764705882|  male| [268.0,35.0]|       0.0|\n",
      "|         55| 61.9792|     1|             65.0|  male|  [65.0,30.0]|       0.0|\n",
      "|         60|    46.9|     3|             11.0|  male| [268.0,35.0]|       0.0|\n",
      "|         61|  7.2292|     3|             22.0|  male| [268.0,35.0]|       0.0|\n",
      "|         64|    27.9|     3|              4.0|  male| [268.0,35.0]|       0.0|\n",
      "|         71|    10.5|     2|             32.0|  male| [268.0,35.0]|       0.0|\n",
      "|         73|    73.5|     2|             21.0|  male|    [7.0,0.0]|       0.0|\n",
      "|         76|    7.65|     3|             25.0|  male| [268.0,35.0]|       0.0|\n",
      "|         79|    29.0|     2|             0.83|  male|    [0.0,7.0]|       1.0|\n",
      "|         81|     9.0|     3|             22.0|  male| [268.0,35.0]|       0.0|\n",
      "|         85|    10.5|     2|             17.0|female|  [7.0,111.0]|       1.0|\n",
      "|         94|  20.575|     3|             26.0|  male| [268.0,35.0]|       0.0|\n",
      "|         99|    23.0|     2|             34.0|female|  [7.0,111.0]|       1.0|\n",
      "|        104|  8.6542|     3|             33.0|  male| [268.0,35.0]|       0.0|\n",
      "|        109|  7.8958|     3|             38.0|  male| [268.0,35.0]|       0.0|\n",
      "|        118|    21.0|     2|             29.0|  male| [268.0,35.0]|       0.0|\n",
      "|        122|    8.05|     3|29.69911764705882|  male| [268.0,35.0]|       0.0|\n",
      "|        123| 30.0708|     2|             32.5|  male| [268.0,35.0]|       0.0|\n",
      "|        124|    13.0|     2|             32.5|female|  [7.0,111.0]|       1.0|\n",
      "|        126| 11.2417|     3|             12.0|  male| [268.0,35.0]|       0.0|\n",
      "|        132|    7.05|     3|             20.0|  male| [268.0,35.0]|       0.0|\n",
      "|        136| 15.0458|     2|             23.0|  male| [268.0,35.0]|       0.0|\n",
      "|        137| 26.2833|     1|             19.0|female|  [7.0,111.0]|       1.0|\n",
      "|        139|  9.2167|     3|             16.0|  male| [268.0,35.0]|       0.0|\n",
      "|        142|    7.75|     3|             22.0|female|   [8.0,25.0]|       1.0|\n",
      "|        143|   15.85|     3|             24.0|female|  [16.0,21.0]|       1.0|\n",
      "|        144|    6.75|     3|             19.0|  male| [268.0,35.0]|       0.0|\n",
      "|        151|  12.525|     2|             51.0|  male| [268.0,35.0]|       0.0|\n",
      "|        152|    66.6|     1|             22.0|female|  [7.0,111.0]|       1.0|\n",
      "|        166|  20.525|     3|              9.0|  male| [268.0,35.0]|       0.0|\n",
      "|        175| 30.6958|     1|             56.0|  male|  [65.0,30.0]|       0.0|\n",
      "|        176|  7.8542|     3|             18.0|  male| [268.0,35.0]|       0.0|\n",
      "|        181|   69.55|     3|29.69911764705882|female|   [20.0,2.0]|       0.0|\n",
      "|        187|    15.5|     3|29.69911764705882|female|  [16.0,21.0]|       1.0|\n",
      "|        189|    15.5|     3|             40.0|  male| [268.0,35.0]|       0.0|\n",
      "|        190|  7.8958|     3|             36.0|  male| [268.0,35.0]|       0.0|\n",
      "|        196|146.5208|     1|             58.0|female|  [7.0,111.0]|       1.0|\n",
      "|        198|  8.4042|     3|             42.0|  male| [268.0,35.0]|       0.0|\n",
      "|        202|   69.55|     3|29.69911764705882|  male|    [7.0,0.0]|       0.0|\n",
      "+-----------+--------+------+-----------------+------+-------------+----------+\n",
      "only showing top 50 rows\n",
      "\n"
     ]
    }
   ],
   "source": [
    "predictions = predictSurvivedModel.transform(test_data)\n",
    "predictions.select('passengerId', 'fare', 'pclass', 'age', 'sex', 'rawPrediction', 'prediction').show(50)\n",
    "\n"
   ]
  },
  {
   "cell_type": "code",
   "execution_count": 110,
   "id": "f2187111",
   "metadata": {},
   "outputs": [
    {
     "data": {
      "text/plain": [
       "0.8333333333333334"
      ]
     },
     "execution_count": 110,
     "metadata": {},
     "output_type": "execute_result"
    }
   ],
   "source": [
    "from pyspark.ml.evaluation import MulticlassClassificationEvaluator\n",
    "\n",
    "evaluator = MulticlassClassificationEvaluator(labelCol='Survived', predictionCol='prediction', metricName='accuracy')\n",
    "accuracy = evaluator.evaluate(predictions)\n",
    "\n",
    "accuracy\n",
    "\n"
   ]
  },
  {
   "cell_type": "code",
   "execution_count": 111,
   "id": "03b11af2",
   "metadata": {},
   "outputs": [],
   "source": [
    "decisionTreeModel = predictSurvivedModel.stages[3]"
   ]
  },
  {
   "cell_type": "code",
   "execution_count": 112,
   "id": "1df1ab1c",
   "metadata": {},
   "outputs": [
    {
     "data": {
      "text/plain": [
       "5"
      ]
     },
     "execution_count": 112,
     "metadata": {},
     "output_type": "execute_result"
    }
   ],
   "source": [
    "decisionTreeModel.depth"
   ]
  },
  {
   "cell_type": "code",
   "execution_count": 113,
   "id": "19ddd149",
   "metadata": {},
   "outputs": [
    {
     "data": {
      "text/plain": [
       "'DecisionTreeClassificationModel: uid=DecisionTreeClassifier_ed941394ccf0, depth=5, numNodes=29, numClasses=2, numFeatures=4\\n  If (feature 3 in {1.0})\\n   If (feature 0 <= 3.5)\\n    If (feature 1 <= 2.5)\\n     Predict: 1.0\\n    Else (feature 1 > 2.5)\\n     If (feature 2 <= 36.8771)\\n      Predict: 1.0\\n     Else (feature 2 > 36.8771)\\n      Predict: 0.0\\n   Else (feature 0 > 3.5)\\n    If (feature 1 <= 1.5)\\n     If (feature 0 <= 17.5)\\n      Predict: 1.0\\n     Else (feature 0 > 17.5)\\n      Predict: 0.0\\n    Else (feature 1 > 1.5)\\n     If (feature 2 <= 49.7521)\\n      Predict: 0.0\\n     Else (feature 2 > 49.7521)\\n      If (feature 2 <= 69.425)\\n       Predict: 1.0\\n      Else (feature 2 > 69.425)\\n       Predict: 0.0\\n  Else (feature 3 not in {1.0})\\n   If (feature 1 <= 2.5)\\n    If (feature 0 <= 3.5)\\n     Predict: 0.0\\n    Else (feature 0 > 3.5)\\n     Predict: 1.0\\n   Else (feature 1 > 2.5)\\n    If (feature 2 <= 24.075)\\n     If (feature 2 <= 7.987500000000001)\\n      If (feature 0 <= 29.84955882352941)\\n       Predict: 1.0\\n      Else (feature 0 > 29.84955882352941)\\n       Predict: 0.0\\n     Else (feature 2 > 7.987500000000001)\\n      If (feature 2 <= 10.50835)\\n       Predict: 0.0\\n      Else (feature 2 > 10.50835)\\n       Predict: 1.0\\n    Else (feature 2 > 24.075)\\n     Predict: 0.0\\n'"
      ]
     },
     "execution_count": 113,
     "metadata": {},
     "output_type": "execute_result"
    }
   ],
   "source": [
    "decisionTreeModel.toDebugString"
   ]
  },
  {
   "cell_type": "code",
   "execution_count": 114,
   "id": "a4d9cfd9",
   "metadata": {},
   "outputs": [
    {
     "data": {
      "text/plain": [
       "[('Age', 0.1218858507486862),\n",
       " ('Pclass', 0.20540803023136753),\n",
       " ('Fare', 0.12335088444459665),\n",
       " ('SexVector', 0.5493552345753496)]"
      ]
     },
     "execution_count": 114,
     "metadata": {},
     "output_type": "execute_result"
    }
   ],
   "source": [
    "list(zip(assembler.getInputCols(), decisionTreeModel.featureImportances))"
   ]
  },
  {
   "cell_type": "code",
   "execution_count": 115,
   "id": "2726734c",
   "metadata": {},
   "outputs": [
    {
     "data": {
      "text/plain": [
       "['Age', 'Pclass', 'Fare', 'SexVector']"
      ]
     },
     "execution_count": 115,
     "metadata": {},
     "output_type": "execute_result"
    }
   ],
   "source": [
    "assembler.getInputCols()"
   ]
  },
  {
   "cell_type": "code",
   "execution_count": null,
   "id": "f7f1e282",
   "metadata": {},
   "outputs": [],
   "source": []
  }
 ],
 "metadata": {
  "kernelspec": {
   "display_name": "Python 3",
   "language": "python",
   "name": "python3"
  },
  "language_info": {
   "codemirror_mode": {
    "name": "ipython",
    "version": 3
   },
   "file_extension": ".py",
   "mimetype": "text/x-python",
   "name": "python",
   "nbconvert_exporter": "python",
   "pygments_lexer": "ipython3",
   "version": "3.10.3 (v3.10.3:a342a49189, Mar 16 2022, 09:34:18) [Clang 13.0.0 (clang-1300.0.29.30)]"
  },
  "vscode": {
   "interpreter": {
    "hash": "98590ff4fe04c8543246b2a01debd3de3c5ca9b666f43f1fa87d5110c692004c"
   }
  }
 },
 "nbformat": 4,
 "nbformat_minor": 5
}
