{
 "cells": [
  {
   "cell_type": "code",
   "execution_count": 1,
   "id": "a3550062",
   "metadata": {},
   "outputs": [
    {
     "name": "stdout",
     "output_type": "stream",
     "text": [
      "23/01/31 02:28:11 WARN Utils: Your hostname, Deboras-MacBook-Pro.local resolves to a loopback address: 127.0.0.1; using 192.168.68.104 instead (on interface en0)\n",
      "23/01/31 02:28:11 WARN Utils: Set SPARK_LOCAL_IP if you need to bind to another address\n"
     ]
    },
    {
     "name": "stderr",
     "output_type": "stream",
     "text": [
      "Setting default log level to \"WARN\".\n",
      "To adjust logging level use sc.setLogLevel(newLevel). For SparkR, use setLogLevel(newLevel).\n"
     ]
    },
    {
     "name": "stdout",
     "output_type": "stream",
     "text": [
      "23/01/31 02:28:11 WARN NativeCodeLoader: Unable to load native-hadoop library for your platform... using builtin-java classes where applicable\n",
      "23/01/31 02:28:12 WARN Utils: Service 'SparkUI' could not bind on port 4040. Attempting port 4041.\n"
     ]
    },
    {
     "data": {
      "text/plain": [
       "'3.3.1'"
      ]
     },
     "execution_count": 1,
     "metadata": {},
     "output_type": "execute_result"
    }
   ],
   "source": [
    "from pyspark.sql import SparkSession\n",
    "\n",
    "spark = SparkSession \\\n",
    "        .builder \\\n",
    "        .appName(\"Aula Interativa 2 - ML\") \\\n",
    "        .getOrCreate()\n",
    "\n",
    "spark.version"
   ]
  },
  {
   "cell_type": "code",
   "execution_count": 2,
   "id": "502cdf73",
   "metadata": {},
   "outputs": [
    {
     "ename": "AnalysisException",
     "evalue": "Path does not exist: file:/home/pcalais/XPE/cientista-dados/aula2/titanic.csv",
     "output_type": "error",
     "traceback": [
      "\u001b[0;31m---------------------------------------------------------------------------\u001b[0m",
      "\u001b[0;31mAnalysisException\u001b[0m                         Traceback (most recent call last)",
      "\u001b[1;32m/Users/deborabastos/Documents/5.Bootcamp DS/Módulo2/bootcamp_code/kaggle-titanic/aula2-ml-final.ipynb Cell 2\u001b[0m in \u001b[0;36m<cell line: 1>\u001b[0;34m()\u001b[0m\n\u001b[0;32m----> <a href='vscode-notebook-cell:/Users/deborabastos/Documents/5.Bootcamp%20DS/M%C3%B3dulo2/bootcamp_code/kaggle-titanic/aula2-ml-final.ipynb#W1sZmlsZQ%3D%3D?line=0'>1</a>\u001b[0m titanic_df \u001b[39m=\u001b[39m spark\u001b[39m.\u001b[39;49mread\u001b[39m.\u001b[39;49mcsv(\u001b[39m'\u001b[39;49m\u001b[39m/home/pcalais/XPE/cientista-dados/aula2/titanic.csv\u001b[39;49m\u001b[39m'\u001b[39;49m, header\u001b[39m=\u001b[39;49m\u001b[39m'\u001b[39;49m\u001b[39mTrue\u001b[39;49m\u001b[39m'\u001b[39;49m, inferSchema\u001b[39m=\u001b[39;49m\u001b[39m'\u001b[39;49m\u001b[39mTrue\u001b[39;49m\u001b[39m'\u001b[39;49m)\n\u001b[1;32m      <a href='vscode-notebook-cell:/Users/deborabastos/Documents/5.Bootcamp%20DS/M%C3%B3dulo2/bootcamp_code/kaggle-titanic/aula2-ml-final.ipynb#W1sZmlsZQ%3D%3D?line=2'>3</a>\u001b[0m titanic_df\u001b[39m.\u001b[39mprintSchema()\n",
      "File \u001b[0;32m/Library/Frameworks/Python.framework/Versions/3.10/lib/python3.10/site-packages/pyspark/sql/readwriter.py:535\u001b[0m, in \u001b[0;36mDataFrameReader.csv\u001b[0;34m(self, path, schema, sep, encoding, quote, escape, comment, header, inferSchema, ignoreLeadingWhiteSpace, ignoreTrailingWhiteSpace, nullValue, nanValue, positiveInf, negativeInf, dateFormat, timestampFormat, maxColumns, maxCharsPerColumn, maxMalformedLogPerPartition, mode, columnNameOfCorruptRecord, multiLine, charToEscapeQuoteEscaping, samplingRatio, enforceSchema, emptyValue, locale, lineSep, pathGlobFilter, recursiveFileLookup, modifiedBefore, modifiedAfter, unescapedQuoteHandling)\u001b[0m\n\u001b[1;32m    533\u001b[0m \u001b[39mif\u001b[39;00m \u001b[39mtype\u001b[39m(path) \u001b[39m==\u001b[39m \u001b[39mlist\u001b[39m:\n\u001b[1;32m    534\u001b[0m     \u001b[39massert\u001b[39;00m \u001b[39mself\u001b[39m\u001b[39m.\u001b[39m_spark\u001b[39m.\u001b[39m_sc\u001b[39m.\u001b[39m_jvm \u001b[39mis\u001b[39;00m \u001b[39mnot\u001b[39;00m \u001b[39mNone\u001b[39;00m\n\u001b[0;32m--> 535\u001b[0m     \u001b[39mreturn\u001b[39;00m \u001b[39mself\u001b[39m\u001b[39m.\u001b[39m_df(\u001b[39mself\u001b[39;49m\u001b[39m.\u001b[39;49m_jreader\u001b[39m.\u001b[39;49mcsv(\u001b[39mself\u001b[39;49m\u001b[39m.\u001b[39;49m_spark\u001b[39m.\u001b[39;49m_sc\u001b[39m.\u001b[39;49m_jvm\u001b[39m.\u001b[39;49mPythonUtils\u001b[39m.\u001b[39;49mtoSeq(path)))\n\u001b[1;32m    536\u001b[0m \u001b[39melif\u001b[39;00m \u001b[39misinstance\u001b[39m(path, RDD):\n\u001b[1;32m    538\u001b[0m     \u001b[39mdef\u001b[39;00m \u001b[39mfunc\u001b[39m(iterator):\n",
      "File \u001b[0;32m/Library/Frameworks/Python.framework/Versions/3.10/lib/python3.10/site-packages/py4j/java_gateway.py:1321\u001b[0m, in \u001b[0;36mJavaMember.__call__\u001b[0;34m(self, *args)\u001b[0m\n\u001b[1;32m   1315\u001b[0m command \u001b[39m=\u001b[39m proto\u001b[39m.\u001b[39mCALL_COMMAND_NAME \u001b[39m+\u001b[39m\\\n\u001b[1;32m   1316\u001b[0m     \u001b[39mself\u001b[39m\u001b[39m.\u001b[39mcommand_header \u001b[39m+\u001b[39m\\\n\u001b[1;32m   1317\u001b[0m     args_command \u001b[39m+\u001b[39m\\\n\u001b[1;32m   1318\u001b[0m     proto\u001b[39m.\u001b[39mEND_COMMAND_PART\n\u001b[1;32m   1320\u001b[0m answer \u001b[39m=\u001b[39m \u001b[39mself\u001b[39m\u001b[39m.\u001b[39mgateway_client\u001b[39m.\u001b[39msend_command(command)\n\u001b[0;32m-> 1321\u001b[0m return_value \u001b[39m=\u001b[39m get_return_value(\n\u001b[1;32m   1322\u001b[0m     answer, \u001b[39mself\u001b[39;49m\u001b[39m.\u001b[39;49mgateway_client, \u001b[39mself\u001b[39;49m\u001b[39m.\u001b[39;49mtarget_id, \u001b[39mself\u001b[39;49m\u001b[39m.\u001b[39;49mname)\n\u001b[1;32m   1324\u001b[0m \u001b[39mfor\u001b[39;00m temp_arg \u001b[39min\u001b[39;00m temp_args:\n\u001b[1;32m   1325\u001b[0m     temp_arg\u001b[39m.\u001b[39m_detach()\n",
      "File \u001b[0;32m/Library/Frameworks/Python.framework/Versions/3.10/lib/python3.10/site-packages/pyspark/sql/utils.py:196\u001b[0m, in \u001b[0;36mcapture_sql_exception.<locals>.deco\u001b[0;34m(*a, **kw)\u001b[0m\n\u001b[1;32m    192\u001b[0m converted \u001b[39m=\u001b[39m convert_exception(e\u001b[39m.\u001b[39mjava_exception)\n\u001b[1;32m    193\u001b[0m \u001b[39mif\u001b[39;00m \u001b[39mnot\u001b[39;00m \u001b[39misinstance\u001b[39m(converted, UnknownException):\n\u001b[1;32m    194\u001b[0m     \u001b[39m# Hide where the exception came from that shows a non-Pythonic\u001b[39;00m\n\u001b[1;32m    195\u001b[0m     \u001b[39m# JVM exception message.\u001b[39;00m\n\u001b[0;32m--> 196\u001b[0m     \u001b[39mraise\u001b[39;00m converted \u001b[39mfrom\u001b[39;00m \u001b[39mNone\u001b[39m\n\u001b[1;32m    197\u001b[0m \u001b[39melse\u001b[39;00m:\n\u001b[1;32m    198\u001b[0m     \u001b[39mraise\u001b[39;00m\n",
      "\u001b[0;31mAnalysisException\u001b[0m: Path does not exist: file:/home/pcalais/XPE/cientista-dados/aula2/titanic.csv"
     ]
    }
   ],
   "source": [
    "titanic_df = spark.read.csv('/home/pcalais/XPE/cientista-dados/aula2/titanic.csv', header='True', inferSchema='True')\n",
    "\n",
    "titanic_df.printSchema()"
   ]
  },
  {
   "cell_type": "code",
   "execution_count": null,
   "id": "e0422a38",
   "metadata": {},
   "outputs": [],
   "source": [
    "from pyspark.ml.feature import StringIndexer, OneHotEncoder\n",
    "\n",
    "sex_indexer = StringIndexer(inputCol='Sex', outputCol='SexIndex')\n",
    "sex_encoder = OneHotEncoder(inputCol='SexIndex', outputCol='SexVector')\n"
   ]
  },
  {
   "cell_type": "code",
   "execution_count": null,
   "id": "ef8f8785",
   "metadata": {},
   "outputs": [],
   "source": [
    "from pyspark.ml.feature import VectorAssembler\n",
    "\n",
    "assembler = VectorAssembler(inputCols=['Age', 'Pclass', 'Fare', 'SexVector'], outputCol='features')\n"
   ]
  },
  {
   "cell_type": "code",
   "execution_count": null,
   "id": "09e22b83",
   "metadata": {},
   "outputs": [
    {
     "data": {
      "text/plain": [
       "DecisionTreeClassifier_332520258ac0"
      ]
     },
     "execution_count": 55,
     "metadata": {},
     "output_type": "execute_result"
    }
   ],
   "source": [
    "from pyspark.ml.classification import DecisionTreeClassifier\n",
    "\n",
    "classifier = DecisionTreeClassifier(labelCol='Survived', featuresCol='features')\n",
    "\n",
    "classifier"
   ]
  },
  {
   "cell_type": "code",
   "execution_count": null,
   "id": "eb650f0b",
   "metadata": {},
   "outputs": [],
   "source": [
    "from pyspark.ml import Pipeline\n",
    "\n",
    "pipeline = Pipeline(stages=[sex_indexer, sex_encoder, assembler, classifier])"
   ]
  },
  {
   "cell_type": "code",
   "execution_count": null,
   "id": "73bb9205",
   "metadata": {},
   "outputs": [],
   "source": [
    "train_data, test_data = titanic_df.randomSplit([0.7, 0.3])"
   ]
  },
  {
   "cell_type": "code",
   "execution_count": null,
   "id": "72c9332d",
   "metadata": {},
   "outputs": [],
   "source": [
    "predictSurvivedModel = pipeline.fit(train_data)"
   ]
  },
  {
   "cell_type": "code",
   "execution_count": null,
   "id": "6563e950",
   "metadata": {},
   "outputs": [
    {
     "data": {
      "text/plain": [
       "29.699117647058763"
      ]
     },
     "execution_count": 59,
     "metadata": {},
     "output_type": "execute_result"
    }
   ],
   "source": [
    "mean_age = titanic_df.agg({'Age': 'mean'}).collect()[0][0]\n",
    "mean_age"
   ]
  },
  {
   "cell_type": "code",
   "execution_count": null,
   "id": "ca6af02a",
   "metadata": {},
   "outputs": [],
   "source": [
    "titanic_df = titanic_df.fillna(mean_age, subset=['Age'])"
   ]
  },
  {
   "cell_type": "code",
   "execution_count": null,
   "id": "d40cc60a",
   "metadata": {},
   "outputs": [
    {
     "name": "stdout",
     "output_type": "stream",
     "text": [
      "+------+-----+\n",
      "|   Sex|count|\n",
      "+------+-----+\n",
      "|female|  314|\n",
      "|  male|  577|\n",
      "+------+-----+\n",
      "\n"
     ]
    }
   ],
   "source": [
    "train_data, test_data = titanic_df.randomSplit([0.7, 0.3])\n",
    "predictSurvivedModel = pipeline.fit(train_data)\n",
    "\n",
    "titanic_df.groupBy('Sex').count().show()"
   ]
  },
  {
   "cell_type": "code",
   "execution_count": null,
   "id": "afcd4bb2",
   "metadata": {},
   "outputs": [
    {
     "name": "stdout",
     "output_type": "stream",
     "text": [
      "+-----------+------+-------------+-------------+----------+\n",
      "|passengerId|   sex|    sexVector|rawPrediction|prediction|\n",
      "+-----------+------+-------------+-------------+----------+\n",
      "|          1|  male|(1,[0],[1.0])| [256.0,35.0]|       0.0|\n",
      "|          2|female|    (1,[],[])|  [3.0,101.0]|       1.0|\n",
      "|          3|female|    (1,[],[])|  [26.0,44.0]|       1.0|\n",
      "|          8|  male|(1,[0],[1.0])|    [0.0,3.0]|       1.0|\n",
      "|         10|female|    (1,[],[])|  [3.0,101.0]|       1.0|\n",
      "+-----------+------+-------------+-------------+----------+\n",
      "only showing top 5 rows\n",
      "\n"
     ]
    }
   ],
   "source": [
    "predictions = predictSurvivedModel.transform(test_data)\n",
    "predictions.select('passengerId', 'sex', 'sexVector', 'rawPrediction', 'prediction').show(5)\n",
    "\n"
   ]
  },
  {
   "cell_type": "code",
   "execution_count": null,
   "id": "f2187111",
   "metadata": {},
   "outputs": [
    {
     "data": {
      "text/plain": [
       "0.8303886925795053"
      ]
     },
     "execution_count": 63,
     "metadata": {},
     "output_type": "execute_result"
    }
   ],
   "source": [
    "from pyspark.ml.evaluation import MulticlassClassificationEvaluator\n",
    "\n",
    "evaluator = MulticlassClassificationEvaluator(labelCol='Survived', predictionCol='prediction', metricName='accuracy')\n",
    "accuracy = evaluator.evaluate(predictions)\n",
    "\n",
    "accuracy\n",
    "\n"
   ]
  },
  {
   "cell_type": "code",
   "execution_count": null,
   "id": "03b11af2",
   "metadata": {},
   "outputs": [
    {
     "data": {
      "text/plain": [
       "5"
      ]
     },
     "execution_count": 67,
     "metadata": {},
     "output_type": "execute_result"
    }
   ],
   "source": [
    "decisionTreeModel = predictSurvivedModel.stages[3]\n",
    "\n",
    "decisionTreeModel.depth"
   ]
  },
  {
   "cell_type": "code",
   "execution_count": null,
   "id": "125ac7cb",
   "metadata": {},
   "outputs": [
    {
     "data": {
      "text/plain": [
       "'DecisionTreeClassificationModel: uid=DecisionTreeClassifier_332520258ac0, depth=5, numNodes=29, numClasses=2, numFeatures=4\\n  If (feature 3 in {1.0})\\n   If (feature 2 <= 26.125)\\n    If (feature 0 <= 4.5)\\n     Predict: 1.0\\n    Else (feature 0 > 4.5)\\n     Predict: 0.0\\n   Else (feature 2 > 26.125)\\n    If (feature 0 <= 52.5)\\n     If (feature 1 <= 1.5)\\n      If (feature 2 <= 31.1375)\\n       Predict: 1.0\\n      Else (feature 2 > 31.1375)\\n       Predict: 0.0\\n     Else (feature 1 > 1.5)\\n      Predict: 0.0\\n    Else (feature 0 > 52.5)\\n     Predict: 0.0\\n  Else (feature 3 not in {1.0})\\n   If (feature 1 <= 2.5)\\n    If (feature 0 <= 4.5)\\n     If (feature 1 <= 1.5)\\n      Predict: 0.0\\n     Else (feature 1 > 1.5)\\n      Predict: 1.0\\n    Else (feature 0 > 4.5)\\n     Predict: 1.0\\n   Else (feature 1 > 2.5)\\n    If (feature 2 <= 24.808349999999997)\\n     If (feature 0 <= 36.25)\\n      Predict: 1.0\\n     Else (feature 0 > 36.25)\\n      If (feature 0 <= 48.5)\\n       Predict: 0.0\\n      Else (feature 0 > 48.5)\\n       Predict: 1.0\\n    Else (feature 2 > 24.808349999999997)\\n     If (feature 0 <= 38.5)\\n      If (feature 0 <= 29.84955882352941)\\n       Predict: 0.0\\n      Else (feature 0 > 29.84955882352941)\\n       Predict: 1.0\\n     Else (feature 0 > 38.5)\\n      Predict: 0.0\\n'"
      ]
     },
     "execution_count": 68,
     "metadata": {},
     "output_type": "execute_result"
    }
   ],
   "source": [
    "decisionTreeModel.toDebugString"
   ]
  },
  {
   "cell_type": "code",
   "execution_count": null,
   "id": "b6c857a2",
   "metadata": {},
   "outputs": [
    {
     "data": {
      "text/plain": [
       "SparseVector(4, {0: 0.1024, 1: 0.1788, 2: 0.1476, 3: 0.5712})"
      ]
     },
     "execution_count": 69,
     "metadata": {},
     "output_type": "execute_result"
    }
   ],
   "source": [
    "decisionTreeModel.featureImportances"
   ]
  },
  {
   "cell_type": "code",
   "execution_count": null,
   "id": "5a5789da",
   "metadata": {},
   "outputs": [
    {
     "data": {
      "text/plain": [
       "[('Age', 0.10235979363731586),\n",
       " ('Pclass', 0.17880959819711095),\n",
       " ('Fare', 0.14762111134855063),\n",
       " ('SexVector', 0.5712094968170226)]"
      ]
     },
     "execution_count": 71,
     "metadata": {},
     "output_type": "execute_result"
    }
   ],
   "source": [
    "list(zip(assembler.getInputCols(), decisionTreeModel.featureImportances))"
   ]
  },
  {
   "cell_type": "code",
   "execution_count": null,
   "id": "4ea1a62b",
   "metadata": {},
   "outputs": [],
   "source": []
  }
 ],
 "metadata": {
  "kernelspec": {
   "display_name": "Python 3",
   "language": "python",
   "name": "python3"
  },
  "language_info": {
   "codemirror_mode": {
    "name": "ipython",
    "version": 3
   },
   "file_extension": ".py",
   "mimetype": "text/x-python",
   "name": "python",
   "nbconvert_exporter": "python",
   "pygments_lexer": "ipython3",
   "version": "3.10.3"
  },
  "vscode": {
   "interpreter": {
    "hash": "98590ff4fe04c8543246b2a01debd3de3c5ca9b666f43f1fa87d5110c692004c"
   }
  }
 },
 "nbformat": 4,
 "nbformat_minor": 5
}
