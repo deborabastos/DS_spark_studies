{
 "cells": [
  {
   "cell_type": "code",
   "execution_count": null,
   "id": "e690dfa5",
   "metadata": {},
   "outputs": [],
   "source": [
    "from pyspark.sql import SparkSession\n",
    "\n",
    "# Spark entry point\n",
    "spark = SparkSession \\\n",
    "    .builder \\\n",
    "    .appName(\"Aula Interativa 1 - Cientista de Dados - Apache Spark\") \\\n",
    "    .getOrCreate()\n",
    "\n",
    "spark.version\n"
   ]
  },
  {
   "cell_type": "code",
   "execution_count": null,
   "id": "b831dfd4",
   "metadata": {},
   "outputs": [],
   "source": [
    "filename = 'C:/Users/pedro.guerra/Downloads/XPE/cientista-dados/aula1/numbers.txt'\n",
    "\n",
    "\n",
    "linesRdd = spark.read.text(filename).rdd.map(lambda r: r[0])\n",
    "print(\"Number of partitions: {}\".format(linesRdd.getNumPartitions()))\n"
   ]
  },
  {
   "cell_type": "code",
   "execution_count": null,
   "id": "98cfc1a9",
   "metadata": {},
   "outputs": [],
   "source": [
    "from operator import add\n",
    "\n",
    "countsRdd = linesRdd.flatMap(lambda line: line.split(' ')) \\\n",
    "                     .filter(lambda number: int(number) % 2 == 0) \\\n",
    "                     .map(lambda number: (number, 1)) \\\n",
    "                     .reduceByKey(add)\n",
    "\n",
    "print('The end')"
   ]
  },
  {
   "cell_type": "code",
   "execution_count": null,
   "id": "dca6f39e",
   "metadata": {},
   "outputs": [],
   "source": [
    "# https://learn.microsoft.com/en-us/azure/databricks/kb/scala/best-practice-cache-count-take\n",
    "countsRdd.cache()"
   ]
  },
  {
   "cell_type": "code",
   "execution_count": null,
   "id": "7c962112",
   "metadata": {},
   "outputs": [],
   "source": [
    "countDict = countsRdd.collect()\n",
    "for (number, count) in countDict:\n",
    "    print(number, count)\n"
   ]
  },
  {
   "cell_type": "code",
   "execution_count": null,
   "id": "8c213dbd",
   "metadata": {},
   "outputs": [],
   "source": [
    "countsRdd.max(lambda x:x[1])"
   ]
  },
  {
   "cell_type": "code",
   "execution_count": null,
   "id": "87fbad4c",
   "metadata": {},
   "outputs": [],
   "source": [
    "countRdd2 = linesRdd.flatMap(lambda line: line.split(' ')) \\\n",
    "                     .filter(lambda number: int(number) % 2 == 0) \\\n",
    "                     .map(lambda number: (number, 1)) \\\n",
    "                     .reduceByKey(add)\n",
    "                     \n",
    "countsRdd2.max(lambda x:x[1])"
   ]
  },
  {
   "cell_type": "code",
   "execution_count": null,
   "id": "e03ab9f1",
   "metadata": {},
   "outputs": [],
   "source": []
  }
 ],
 "metadata": {
  "kernelspec": {
   "display_name": "Python 3 (ipykernel)",
   "language": "python",
   "name": "python3"
  },
  "language_info": {
   "codemirror_mode": {
    "name": "ipython",
    "version": 3
   },
   "file_extension": ".py",
   "mimetype": "text/x-python",
   "name": "python",
   "nbconvert_exporter": "python",
   "pygments_lexer": "ipython3",
   "version": "3.10.6"
  }
 },
 "nbformat": 4,
 "nbformat_minor": 5
}
