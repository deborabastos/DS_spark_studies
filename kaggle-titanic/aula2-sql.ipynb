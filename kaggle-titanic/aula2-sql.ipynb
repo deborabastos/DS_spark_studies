{
 "cells": [
  {
   "cell_type": "code",
   "execution_count": 13,
   "id": "66310fec",
   "metadata": {},
   "outputs": [
    {
     "data": {
      "text/plain": [
       "'3.3.0'"
      ]
     },
     "execution_count": 13,
     "metadata": {},
     "output_type": "execute_result"
    }
   ],
   "source": [
    "from pyspark.sql import SparkSession\n",
    "\n",
    "spark = SparkSession \\\n",
    "        .builder \\\n",
    "        .appName(\"Aula Interativa 2 - Spark SQL\") \\\n",
    "        .getOrCreate()\n",
    "    \n",
    "spark.version"
   ]
  },
  {
   "cell_type": "code",
   "execution_count": 14,
   "id": "1ec26208",
   "metadata": {},
   "outputs": [
    {
     "name": "stdout",
     "output_type": "stream",
     "text": [
      "root\n",
      " |-- PassengerId: integer (nullable = true)\n",
      " |-- Survived: integer (nullable = true)\n",
      " |-- Pclass: integer (nullable = true)\n",
      " |-- Name: string (nullable = true)\n",
      " |-- Sex: string (nullable = true)\n",
      " |-- Age: double (nullable = true)\n",
      " |-- SibSp: integer (nullable = true)\n",
      " |-- Parch: integer (nullable = true)\n",
      " |-- Ticket: string (nullable = true)\n",
      " |-- Fare: double (nullable = true)\n",
      " |-- Cabin: string (nullable = true)\n",
      " |-- Embarked: string (nullable = true)\n",
      "\n"
     ]
    }
   ],
   "source": [
    "titanic_df = spark.read.csv('/home/pcalais/XPE/cientista-dados/aula2/titanic.csv', header='True', inferSchema='True')\n",
    "\n",
    "titanic_df.printSchema()"
   ]
  },
  {
   "cell_type": "code",
   "execution_count": 15,
   "id": "8d97cb51",
   "metadata": {},
   "outputs": [
    {
     "data": {
      "text/plain": [
       "891"
      ]
     },
     "execution_count": 15,
     "metadata": {},
     "output_type": "execute_result"
    }
   ],
   "source": [
    "titanic_df.count()"
   ]
  },
  {
   "cell_type": "code",
   "execution_count": 16,
   "id": "f2c6e42d",
   "metadata": {},
   "outputs": [
    {
     "name": "stdout",
     "output_type": "stream",
     "text": [
      "+--------+-----+\n",
      "|survived|count|\n",
      "+--------+-----+\n",
      "|       1|  342|\n",
      "|       0|  549|\n",
      "+--------+-----+\n",
      "\n"
     ]
    }
   ],
   "source": [
    "titanic_df.groupBy('survived').count().show()"
   ]
  },
  {
   "cell_type": "code",
   "execution_count": 17,
   "id": "3b99cb8e",
   "metadata": {},
   "outputs": [
    {
     "name": "stdout",
     "output_type": "stream",
     "text": [
      "+--------+--------+\n",
      "|survived|count(1)|\n",
      "+--------+--------+\n",
      "|       1|     342|\n",
      "|       0|     549|\n",
      "+--------+--------+\n",
      "\n"
     ]
    }
   ],
   "source": [
    "titanic_df.createOrReplaceTempView('titanic_table')\n",
    "\n",
    "spark.sql(\"SELECT survived, count(*) FROM titanic_table GROUP BY survived\").show()"
   ]
  },
  {
   "cell_type": "code",
   "execution_count": 18,
   "id": "9b5a2001",
   "metadata": {},
   "outputs": [
    {
     "name": "stdout",
     "output_type": "stream",
     "text": [
      "+--------+------------------+\n",
      "|survived|         avg(Fare)|\n",
      "+--------+------------------+\n",
      "|       1| 48.39540760233917|\n",
      "|       0|22.117886885245877|\n",
      "+--------+------------------+\n",
      "\n"
     ]
    }
   ],
   "source": [
    "titanic_df.groupBy('survived').agg({\"Fare\": \"avg\"}).show()"
   ]
  },
  {
   "cell_type": "code",
   "execution_count": 19,
   "id": "bc842814",
   "metadata": {},
   "outputs": [
    {
     "name": "stdout",
     "output_type": "stream",
     "text": [
      "+--------+------------------+\n",
      "|survived|         avg(fare)|\n",
      "+--------+------------------+\n",
      "|       1| 48.39540760233917|\n",
      "|       0|22.117886885245877|\n",
      "+--------+------------------+\n",
      "\n"
     ]
    }
   ],
   "source": [
    "spark.sql(\"SELECT survived, avg(fare) FROM titanic_table GROUP BY survived\").show()"
   ]
  },
  {
   "cell_type": "markdown",
   "id": "9e1f3da5",
   "metadata": {},
   "source": [
    "spark.sql(\"SELECT age, count(*) as age_count FROM titanic_table WHERE survived == 1 GROUP BY age ORDER BY age_count DESC\").show(100)"
   ]
  },
  {
   "cell_type": "code",
   "execution_count": 20,
   "id": "114ea5a2",
   "metadata": {},
   "outputs": [
    {
     "name": "stdout",
     "output_type": "stream",
     "text": [
      "22/08/17 21:34:45 WARN SimpleFunctionRegistry: The function upperudf replaced a previously registered function.\n",
      "+--------------------+--------------------+\n",
      "|      upperUDF(Name)|                Name|\n",
      "+--------------------+--------------------+\n",
      "|BRAUND, MR. OWEN ...|Braund, Mr. Owen ...|\n",
      "|CUMINGS, MRS. JOH...|Cumings, Mrs. Joh...|\n",
      "|HEIKKINEN, MISS. ...|Heikkinen, Miss. ...|\n",
      "|FUTRELLE, MRS. JA...|Futrelle, Mrs. Ja...|\n",
      "|ALLEN, MR. WILLIA...|Allen, Mr. Willia...|\n",
      "+--------------------+--------------------+\n",
      "only showing top 5 rows\n",
      "\n"
     ]
    }
   ],
   "source": [
    "def uppercase(str):\n",
    "        return str.upper()\n",
    "    \n",
    "spark.udf.register(\"upperUDF\", uppercase)\n",
    "\n",
    "spark.sql(\"SELECT upperUDF(Name), Name from titanic_table\").show(5)\n",
    "\n"
   ]
  },
  {
   "cell_type": "code",
   "execution_count": null,
   "id": "0625da24",
   "metadata": {},
   "outputs": [],
   "source": []
  }
 ],
 "metadata": {
  "kernelspec": {
   "display_name": "Python 3",
   "language": "python",
   "name": "python3"
  },
  "language_info": {
   "codemirror_mode": {
    "name": "ipython",
    "version": 3
   },
   "file_extension": ".py",
   "mimetype": "text/x-python",
   "name": "python",
   "nbconvert_exporter": "python",
   "pygments_lexer": "ipython3",
   "version": "3.10.3 (v3.10.3:a342a49189, Mar 16 2022, 09:34:18) [Clang 13.0.0 (clang-1300.0.29.30)]"
  },
  "vscode": {
   "interpreter": {
    "hash": "98590ff4fe04c8543246b2a01debd3de3c5ca9b666f43f1fa87d5110c692004c"
   }
  }
 },
 "nbformat": 4,
 "nbformat_minor": 5
}
