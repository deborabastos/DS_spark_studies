{
 "cells": [
  {
   "cell_type": "code",
   "execution_count": 1,
   "metadata": {},
   "outputs": [],
   "source": [
    "import sys\n",
    "from operator import add\n",
    "from pyspark.sql import SparkSession"
   ]
  },
  {
   "cell_type": "code",
   "execution_count": 2,
   "metadata": {},
   "outputs": [
    {
     "name": "stdout",
     "output_type": "stream",
     "text": [
      "23/01/06 22:24:37 WARN Utils: Your hostname, Deboras-MacBook-Pro.local resolves to a loopback address: 127.0.0.1; using 192.168.68.104 instead (on interface en0)\n",
      "23/01/06 22:24:37 WARN Utils: Set SPARK_LOCAL_IP if you need to bind to another address\n"
     ]
    },
    {
     "name": "stderr",
     "output_type": "stream",
     "text": [
      "Setting default log level to \"WARN\".\n",
      "To adjust logging level use sc.setLogLevel(newLevel). For SparkR, use setLogLevel(newLevel).\n"
     ]
    },
    {
     "name": "stdout",
     "output_type": "stream",
     "text": [
      "23/01/06 22:24:37 WARN NativeCodeLoader: Unable to load native-hadoop library for your platform... using builtin-java classes where applicable\n",
      "Number of partitions: 1\n",
      "4 : 175\n",
      "2 : 164\n",
      "7 : 177\n",
      "1 : 170\n",
      "3 : 178\n",
      "8 : 174\n",
      "6 : 203\n",
      "5 : 210\n",
      "9 : 176\n",
      "10 : 194\n",
      "0 : 179\n",
      " : 1\n"
     ]
    }
   ],
   "source": [
    "filename = \"./numbers.txt\"\n",
    "\n",
    "if __name__ == \"__main__\":\n",
    "    \n",
    "    spark = SparkSession \\\n",
    "        .builder \\\n",
    "        .appName(\"PythonNumberdCount\") \\\n",
    "        .master(\"local[*]\") \\\n",
    "        .getOrCreate()\n",
    "    \n",
    "    linesRDD = spark.read.text(filename).rdd.map(lambda r: r[0])\n",
    "    print(\"Number of partitions: {}\".format(linesRDD.getNumPartitions()))\n",
    "\n",
    "    counts = linesRDD.flatMap(lambda x: x.split(' ')) \\\n",
    "                    .map(lambda x: (x,1)) \\\n",
    "                    .reduceByKey(add)\n",
    "    \n",
    "\n",
    "    output = counts.collect()\n",
    "    for word, count in output:\n",
    "        print(\"%s : %i\" % (word, count))\n",
    "    \n",
    "    spark.stop()\n"
   ]
  }
 ],
 "metadata": {
  "kernelspec": {
   "display_name": "Python 3",
   "language": "python",
   "name": "python3"
  },
  "language_info": {
   "codemirror_mode": {
    "name": "ipython",
    "version": 3
   },
   "file_extension": ".py",
   "mimetype": "text/x-python",
   "name": "python",
   "nbconvert_exporter": "python",
   "pygments_lexer": "ipython3",
   "version": "3.10.3"
  },
  "orig_nbformat": 4,
  "vscode": {
   "interpreter": {
    "hash": "98590ff4fe04c8543246b2a01debd3de3c5ca9b666f43f1fa87d5110c692004c"
   }
  }
 },
 "nbformat": 4,
 "nbformat_minor": 2
}
