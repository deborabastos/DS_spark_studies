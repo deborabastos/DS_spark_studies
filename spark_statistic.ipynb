{
 "cells": [
  {
   "cell_type": "code",
   "execution_count": 117,
   "metadata": {},
   "outputs": [],
   "source": [
    "from pyspark.sql import SparkSession\n",
    "from pyspark.sql.functions import rand, randn, mean, min, max\n",
    "from pyspark import SparkContext\n",
    "from pyspark.sql import SQLContext\n"
   ]
  },
  {
   "cell_type": "code",
   "execution_count": 118,
   "metadata": {},
   "outputs": [],
   "source": [
    "spark = SparkSession \\\n",
    "        .builder \\\n",
    "        .appName(\"PythonWordCount\") \\\n",
    "        .getOrCreate() "
   ]
  },
  {
   "cell_type": "code",
   "execution_count": 119,
   "metadata": {},
   "outputs": [],
   "source": [
    "sqlc = SQLContext(spark.sparkContext)"
   ]
  },
  {
   "cell_type": "code",
   "execution_count": 120,
   "metadata": {},
   "outputs": [
    {
     "name": "stdout",
     "output_type": "stream",
     "text": [
      "# rows:  10000\n",
      "+---+-------------------+--------------------+\n",
      "| id|            uniform|              normal|\n",
      "+---+-------------------+--------------------+\n",
      "|  0| 0.1709497137955568| -0.8664700627108758|\n",
      "|  1| 0.8051143958005459| -0.5970491018333267|\n",
      "|  2| 0.5775925576589018| 0.18267161219540898|\n",
      "|  3| 0.9476047869880925| -1.8497305679917546|\n",
      "|  4|    0.2093704977577|  0.9410417279045351|\n",
      "|  5|0.36664222617947817| -0.6516475674670159|\n",
      "|  6| 0.8078688178371882|  0.5901002135239671|\n",
      "|  7| 0.7135143433452461|  -1.850241871360443|\n",
      "|  8| 0.7195325566306053| 0.09176896733073023|\n",
      "|  9|0.31335292311175456|-0.38605118617831075|\n",
      "| 10| 0.8062503712025726|  1.2134544166783332|\n",
      "| 11|0.10814914646176654| -1.0757702531630617|\n",
      "| 12| 0.3362232980701172| 0.04961226872064977|\n",
      "| 13| 0.8133304803837667|  -0.768259602441542|\n",
      "| 14|0.47649428738170896|  0.2911293146907403|\n",
      "| 15|  0.524728096293865|-0.33406080411047484|\n",
      "| 16| 0.9701253460019921|  1.3607097640771781|\n",
      "| 17| 0.6232167713919952|  0.5986772981082732|\n",
      "| 18| 0.5089687568245219|-0.35158579838711623|\n",
      "| 19| 0.5467504094508642| -0.9115825072509143|\n",
      "+---+-------------------+--------------------+\n",
      "only showing top 20 rows\n",
      "\n"
     ]
    }
   ],
   "source": [
    "df = (sqlc.range(0, 100 * 100)\n",
    "    .withColumn('uniform', rand(seed=10))\n",
    "    .withColumn('normal', randn(seed=27)))\n",
    "\n",
    "print('# rows: ', df.count())\n",
    "df.show()"
   ]
  },
  {
   "cell_type": "code",
   "execution_count": 121,
   "metadata": {},
   "outputs": [
    {
     "name": "stdout",
     "output_type": "stream",
     "text": [
      "+-------+------------------+--------------------+--------------------+\n",
      "|summary|                id|             uniform|              normal|\n",
      "+-------+------------------+--------------------+--------------------+\n",
      "|  count|             10000|               10000|               10000|\n",
      "|   mean|            4999.5|  0.5024351587579093|-0.00202023947322...|\n",
      "| stddev|2886.8956799071675|  0.2888572701169501|  1.0026324939995948|\n",
      "|    min|                 0|5.225599964608918E-5|  -3.905213826109845|\n",
      "|    max|              9999|  0.9998135527087725|  3.7776553456547246|\n",
      "+-------+------------------+--------------------+--------------------+\n",
      "\n"
     ]
    }
   ],
   "source": [
    "df.describe().show()"
   ]
  },
  {
   "cell_type": "code",
   "execution_count": 122,
   "metadata": {},
   "outputs": [
    {
     "name": "stdout",
     "output_type": "stream",
     "text": [
      "+-------+--------------------+--------------------+\n",
      "|summary|             uniform|              normal|\n",
      "+-------+--------------------+--------------------+\n",
      "|  count|               10000|               10000|\n",
      "|   mean|  0.5024351587579093|-0.00202023947322...|\n",
      "| stddev|  0.2888572701169501|  1.0026324939995948|\n",
      "|    min|5.225599964608918E-5|  -3.905213826109845|\n",
      "|    max|  0.9998135527087725|  3.7776553456547246|\n",
      "+-------+--------------------+--------------------+\n",
      "\n"
     ]
    }
   ],
   "source": [
    "df.describe('uniform', 'normal').show()"
   ]
  },
  {
   "cell_type": "code",
   "execution_count": 123,
   "metadata": {},
   "outputs": [
    {
     "name": "stdout",
     "output_type": "stream",
     "text": [
      "+------------------+--------------------+------------------+\n",
      "|      avg(uniform)|        min(uniform)|      max(uniform)|\n",
      "+------------------+--------------------+------------------+\n",
      "|0.5024351587579093|5.225599964608918E-5|0.9998135527087725|\n",
      "+------------------+--------------------+------------------+\n",
      "\n"
     ]
    }
   ],
   "source": [
    "df.select([mean('uniform'), min('uniform'), max('uniform')]).show()"
   ]
  },
  {
   "cell_type": "code",
   "execution_count": 124,
   "metadata": {},
   "outputs": [
    {
     "name": "stdout",
     "output_type": "stream",
     "text": [
      "Cov uniform vs uniform:  0.08343852249941668\n",
      "Cov uniform vs uniform:  -0.0013170595610058967\n",
      "+-------------------+\n",
      "|  variance(uniform)|\n",
      "+-------------------+\n",
      "|0.08343852249941668|\n",
      "+-------------------+\n",
      "\n"
     ]
    }
   ],
   "source": [
    "# Covariance\n",
    "print('Cov uniform vs uniform: ', df.stat.cov('uniform', 'uniform'))\n",
    "print('Cov uniform vs uniform: ', df.stat.cov('uniform', 'normal'))\n",
    "\n",
    "df.agg({'uniform' : 'variance'}).show()"
   ]
  },
  {
   "cell_type": "code",
   "execution_count": 125,
   "metadata": {},
   "outputs": [
    {
     "name": "stdout",
     "output_type": "stream",
     "text": [
      "Cor uniform vs uniform:  1.0\n",
      "Cor uniform x normal:  -0.004547579890834926\n"
     ]
    }
   ],
   "source": [
    "# Correlation\n",
    "print('Cor uniform vs uniform: ', df.stat.corr('uniform', 'uniform'))\n",
    "print('Cor uniform x normal: ', df.stat.corr('uniform', 'normal'))"
   ]
  },
  {
   "cell_type": "code",
   "execution_count": 126,
   "metadata": {},
   "outputs": [
    {
     "ename": "AttributeError",
     "evalue": "'list' object has no attribute 'sparkSession'",
     "output_type": "error",
     "traceback": [
      "\u001b[0;31m---------------------------------------------------------------------------\u001b[0m",
      "\u001b[0;31mAttributeError\u001b[0m                            Traceback (most recent call last)",
      "\u001b[1;32m/Users/deborabastos/Documents/5.Bootcamp DS/Módulo2/bootcamp_code/spark_statistic.ipynb Cell 10\u001b[0m in \u001b[0;36m<cell line: 7>\u001b[0;34m()\u001b[0m\n\u001b[1;32m      <a href='vscode-notebook-cell:/Users/deborabastos/Documents/5.Bootcamp%20DS/M%C3%B3dulo2/bootcamp_code/spark_statistic.ipynb#X14sZmlsZQ%3D%3D?line=3'>4</a>\u001b[0m colors \u001b[39m=\u001b[39m [\u001b[39m'\u001b[39m\u001b[39mverde\u001b[39m\u001b[39m'\u001b[39m, \u001b[39m'\u001b[39m\u001b[39mamarelo\u001b[39m\u001b[39m'\u001b[39m, \u001b[39m'\u001b[39m\u001b[39mrosa\u001b[39m\u001b[39m'\u001b[39m, \u001b[39m'\u001b[39m\u001b[39mvermelho\u001b[39m\u001b[39m'\u001b[39m, \u001b[39m'\u001b[39m\u001b[39mpreto\u001b[39m\u001b[39m'\u001b[39m]\n\u001b[1;32m      <a href='vscode-notebook-cell:/Users/deborabastos/Documents/5.Bootcamp%20DS/M%C3%B3dulo2/bootcamp_code/spark_statistic.ipynb#X14sZmlsZQ%3D%3D?line=5'>6</a>\u001b[0m \u001b[39m#Gera tabela misturada\u001b[39;00m\n\u001b[0;32m----> <a href='vscode-notebook-cell:/Users/deborabastos/Documents/5.Bootcamp%20DS/M%C3%B3dulo2/bootcamp_code/spark_statistic.ipynb#X14sZmlsZQ%3D%3D?line=6'>7</a>\u001b[0m df \u001b[39m=\u001b[39m SQLContext\u001b[39m.\u001b[39;49mcreateDataFrame([(names[i \u001b[39m%\u001b[39;49m \u001b[39m3\u001b[39;49m], colors[i \u001b[39m%\u001b[39;49m \u001b[39m5\u001b[39;49m]) \u001b[39mfor\u001b[39;49;00m i \u001b[39min\u001b[39;49;00m \u001b[39mrange\u001b[39;49m(\u001b[39m100\u001b[39;49m)], [\u001b[39m\"\u001b[39;49m\u001b[39mname\u001b[39;49m\u001b[39m\"\u001b[39;49m, \u001b[39m\"\u001b[39;49m\u001b[39mcolor\u001b[39;49m\u001b[39m\"\u001b[39;49m])\n\u001b[1;32m      <a href='vscode-notebook-cell:/Users/deborabastos/Documents/5.Bootcamp%20DS/M%C3%B3dulo2/bootcamp_code/spark_statistic.ipynb#X14sZmlsZQ%3D%3D?line=8'>9</a>\u001b[0m df\u001b[39m.\u001b[39mshow(\u001b[39m10\u001b[39m)\n",
      "File \u001b[0;32m/Library/Frameworks/Python.framework/Versions/3.10/lib/python3.10/site-packages/pyspark/sql/context.py:471\u001b[0m, in \u001b[0;36mSQLContext.createDataFrame\u001b[0;34m(self, data, schema, samplingRatio, verifySchema)\u001b[0m\n\u001b[1;32m    365\u001b[0m \u001b[39mdef\u001b[39;00m \u001b[39mcreateDataFrame\u001b[39m(  \u001b[39m# type: ignore[misc]\u001b[39;00m\n\u001b[1;32m    366\u001b[0m     \u001b[39mself\u001b[39m,\n\u001b[1;32m    367\u001b[0m     data: Union[RDD[Any], Iterable[Any], \u001b[39m\"\u001b[39m\u001b[39mPandasDataFrameLike\u001b[39m\u001b[39m\"\u001b[39m],\n\u001b[0;32m   (...)\u001b[0m\n\u001b[1;32m    370\u001b[0m     verifySchema: \u001b[39mbool\u001b[39m \u001b[39m=\u001b[39m \u001b[39mTrue\u001b[39;00m,\n\u001b[1;32m    371\u001b[0m ) \u001b[39m-\u001b[39m\u001b[39m>\u001b[39m DataFrame:\n\u001b[1;32m    372\u001b[0m     \u001b[39m\"\"\"\u001b[39;00m\n\u001b[1;32m    373\u001b[0m \u001b[39m    Creates a :class:`DataFrame` from an :class:`RDD`, a list or a :class:`pandas.DataFrame`.\u001b[39;00m\n\u001b[1;32m    374\u001b[0m \n\u001b[0;32m   (...)\u001b[0m\n\u001b[1;32m    469\u001b[0m \u001b[39m    Py4JJavaError: ...\u001b[39;00m\n\u001b[1;32m    470\u001b[0m \u001b[39m    \"\"\"\u001b[39;00m\n\u001b[0;32m--> 471\u001b[0m     \u001b[39mreturn\u001b[39;00m \u001b[39mself\u001b[39;49m\u001b[39m.\u001b[39;49msparkSession\u001b[39m.\u001b[39mcreateDataFrame(  \u001b[39m# type: ignore[call-overload]\u001b[39;00m\n\u001b[1;32m    472\u001b[0m         data, schema, samplingRatio, verifySchema\n\u001b[1;32m    473\u001b[0m     )\n",
      "\u001b[0;31mAttributeError\u001b[0m: 'list' object has no attribute 'sparkSession'"
     ]
    }
   ],
   "source": [
    "# Tabela de contingência (cross tab)\n",
    "\n",
    "names = ['Pedro', 'Maria', 'João']\n",
    "colors = ['verde', 'amarelo', 'rosa', 'vermelho', 'preto']\n",
    "\n",
    "#Gera tabela misturada\n",
    "df = SQLContext.createDataFrame([(names[i % 3], colors[i % 5]) for i in range(100)], [\"name\", \"color\"])\n",
    "\n",
    "df.show(10)\n"
   ]
  },
  {
   "cell_type": "code",
   "execution_count": null,
   "metadata": {},
   "outputs": [],
   "source": [
    "df.stat.crosstab(\"name\", \"color\").show"
   ]
  },
  {
   "cell_type": "code",
   "execution_count": null,
   "metadata": {},
   "outputs": [],
   "source": [
    "spark.stop()"
   ]
  }
 ],
 "metadata": {
  "kernelspec": {
   "display_name": "Python 3",
   "language": "python",
   "name": "python3"
  },
  "language_info": {
   "codemirror_mode": {
    "name": "ipython",
    "version": 3
   },
   "file_extension": ".py",
   "mimetype": "text/x-python",
   "name": "python",
   "nbconvert_exporter": "python",
   "pygments_lexer": "ipython3",
   "version": "3.10.3"
  },
  "orig_nbformat": 4,
  "vscode": {
   "interpreter": {
    "hash": "98590ff4fe04c8543246b2a01debd3de3c5ca9b666f43f1fa87d5110c692004c"
   }
  }
 },
 "nbformat": 4,
 "nbformat_minor": 2
}
