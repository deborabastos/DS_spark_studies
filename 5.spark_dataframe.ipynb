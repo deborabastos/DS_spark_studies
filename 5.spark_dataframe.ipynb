{
 "cells": [
  {
   "cell_type": "code",
   "execution_count": 1,
   "metadata": {},
   "outputs": [],
   "source": [
    "# import libraries\n",
    "from pyspark.sql import SparkSession\n",
    "from pyspark.sql.functions import avg"
   ]
  },
  {
   "cell_type": "code",
   "execution_count": 2,
   "metadata": {},
   "outputs": [
    {
     "name": "stdout",
     "output_type": "stream",
     "text": [
      "23/01/31 02:01:16 WARN Utils: Your hostname, Deboras-MacBook-Pro.local resolves to a loopback address: 127.0.0.1; using 192.168.68.104 instead (on interface en0)\n",
      "23/01/31 02:01:16 WARN Utils: Set SPARK_LOCAL_IP if you need to bind to another address\n"
     ]
    },
    {
     "name": "stderr",
     "output_type": "stream",
     "text": [
      "Setting default log level to \"WARN\".\n",
      "To adjust logging level use sc.setLogLevel(newLevel). For SparkR, use setLogLevel(newLevel).\n"
     ]
    },
    {
     "name": "stdout",
     "output_type": "stream",
     "text": [
      "23/01/31 02:01:16 WARN NativeCodeLoader: Unable to load native-hadoop library for your platform... using builtin-java classes where applicable\n"
     ]
    }
   ],
   "source": [
    "spark = (SparkSession.builder\n",
    "        .appName(\"Ages\")\n",
    "        .getOrCreate())"
   ]
  },
  {
   "attachments": {},
   "cell_type": "markdown",
   "metadata": {},
   "source": [
    "### Using RDD"
   ]
  },
  {
   "cell_type": "code",
   "execution_count": 3,
   "metadata": {},
   "outputs": [
    {
     "name": "stderr",
     "output_type": "stream",
     "text": [
      "                                                                                \r"
     ]
    },
    {
     "data": {
      "text/plain": [
       "[('João', 12.0), ('Pedro', 38.0), ('Maria', 26.0)]"
      ]
     },
     "execution_count": 3,
     "metadata": {},
     "output_type": "execute_result"
    }
   ],
   "source": [
    "#Agregate all ages by name and get the average name by age\n",
    "#Create an RDD of tuples (name, age)\n",
    "\n",
    "dataRDD = spark.sparkContext.parallelize([(\"Pedro\", 38), (\"Maria\", 42), (\"João\", 12), (\"Maria\", 10)])\n",
    "\n",
    "avgRDD = (dataRDD \\\n",
    "    .map(lambda x : (x[0], (x[1],1))) \\\n",
    "    .reduceByKey(lambda x,y : (x[0] + y[0], x[1] + y[1])) \\\n",
    "    .map(lambda x : (x[0], x[1][0]/x[1][1]))\n",
    "    )\n",
    "\n",
    "avgRDD.collect()"
   ]
  },
  {
   "attachments": {},
   "cell_type": "markdown",
   "metadata": {},
   "source": [
    "### Using Dartaframe"
   ]
  },
  {
   "cell_type": "code",
   "execution_count": 4,
   "metadata": {},
   "outputs": [
    {
     "name": "stdout",
     "output_type": "stream",
     "text": [
      "+-----+----------+\n",
      "| nome|avg(idade)|\n",
      "+-----+----------+\n",
      "|Pedro|      38.0|\n",
      "|Maria|      26.0|\n",
      "| João|      12.0|\n",
      "+-----+----------+\n",
      "\n"
     ]
    }
   ],
   "source": [
    "data_df = spark.createDataFrame([(\"Pedro\", 38), (\"Maria\", 42), (\"João\", 12), (\"Maria\", 10)], [\"nome\", \"idade\"])\n",
    "\n",
    "avg_df = data_df.groupBy(\"nome\").agg(avg(\"idade\"))\n",
    "\n",
    "avg_df.show()"
   ]
  },
  {
   "cell_type": "code",
   "execution_count": 5,
   "metadata": {},
   "outputs": [
    {
     "name": "stdout",
     "output_type": "stream",
     "text": [
      "+-----+-----+\n",
      "| nome|idade|\n",
      "+-----+-----+\n",
      "| João|   12|\n",
      "|Maria|   10|\n",
      "+-----+-----+\n",
      "\n"
     ]
    }
   ],
   "source": [
    "young = data_df.filter(data_df.idade < 18)\n",
    "young.show()"
   ]
  },
  {
   "cell_type": "code",
   "execution_count": 6,
   "metadata": {},
   "outputs": [
    {
     "name": "stdout",
     "output_type": "stream",
     "text": [
      "+-----+-----+\n",
      "| nome|idade|\n",
      "+-----+-----+\n",
      "|Pedro|   38|\n",
      "|Maria|   42|\n",
      "+-----+-----+\n",
      "\n"
     ]
    }
   ],
   "source": [
    "old = data_df[data_df.idade > 18]\n",
    "old.show()"
   ]
  },
  {
   "cell_type": "code",
   "execution_count": 7,
   "metadata": {},
   "outputs": [
    {
     "name": "stdout",
     "output_type": "stream",
     "text": [
      "+-----+-----------+\n",
      "| nome|(idade + 1)|\n",
      "+-----+-----------+\n",
      "| João|         13|\n",
      "|Maria|         11|\n",
      "+-----+-----------+\n",
      "\n"
     ]
    }
   ],
   "source": [
    "young.select(young.nome, young.idade + 1).show()"
   ]
  },
  {
   "cell_type": "code",
   "execution_count": 8,
   "metadata": {},
   "outputs": [],
   "source": [
    "spark.stop()"
   ]
  }
 ],
 "metadata": {
  "kernelspec": {
   "display_name": "Python 3",
   "language": "python",
   "name": "python3"
  },
  "language_info": {
   "codemirror_mode": {
    "name": "ipython",
    "version": 3
   },
   "file_extension": ".py",
   "mimetype": "text/x-python",
   "name": "python",
   "nbconvert_exporter": "python",
   "pygments_lexer": "ipython3",
   "version": "3.10.3"
  },
  "orig_nbformat": 4,
  "vscode": {
   "interpreter": {
    "hash": "98590ff4fe04c8543246b2a01debd3de3c5ca9b666f43f1fa87d5110c692004c"
   }
  }
 },
 "nbformat": 4,
 "nbformat_minor": 2
}
