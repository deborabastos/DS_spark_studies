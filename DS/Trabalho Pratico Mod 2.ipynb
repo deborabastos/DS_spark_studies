{
 "cells": [
  {
   "cell_type": "markdown",
   "metadata": {},
   "source": [
    "# Trabalho Prático - Modulo 2 - BootCamp Data Science - IGTI\n",
    "Trabalho desenvolvida com a implenetação do uso do FrameWork PySpark com Apach Spark\n"
   ]
  },
  {
   "cell_type": "code",
   "execution_count": 1,
   "metadata": {},
   "outputs": [
    {
     "data": {
      "text/plain": [
       "'3.3.0'"
      ]
     },
     "execution_count": 1,
     "metadata": {},
     "output_type": "execute_result"
    }
   ],
   "source": [
    "from pyspark.sql import SparkSession\n",
    "\n",
    "# Inicio da seção do Spark\n",
    "spark = SparkSession \\\n",
    "    .builder \\\n",
    "    .appName(\"Trabalho Pratico  - Cientista de Dados - Apache Spark\") \\\n",
    "    .getOrCreate()\n",
    "\n",
    "spark.version\n"
   ]
  },
  {
   "cell_type": "code",
   "execution_count": 2,
   "metadata": {},
   "outputs": [
    {
     "name": "stdout",
     "output_type": "stream",
     "text": [
      "root\n",
      " |-- date: timestamp (nullable = true)\n",
      " |-- open: double (nullable = true)\n",
      " |-- high: double (nullable = true)\n",
      " |-- low: double (nullable = true)\n",
      " |-- close: double (nullable = true)\n",
      " |-- volume: integer (nullable = true)\n",
      " |-- Name: string (nullable = true)\n",
      "\n"
     ]
    }
   ],
   "source": [
    "# Carregando a planilha CSV que contém o dataset\n",
    "sp500_df = spark.read.csv('C:/Users/erico/Documents/103 Data Science/IGTI - BootCamps/Bootcamp Data Science/Módulo 2/all_stocks_5yr.csv',header='True',inferSchema='True')\n",
    "\n",
    "# Detalhes dos atributos \n",
    "sp500_df.printSchema()\n"
   ]
  },
  {
   "cell_type": "markdown",
   "metadata": {},
   "source": [
    "### Pergunt 1\n",
    "#### Quantos registros há na planilha?"
   ]
  },
  {
   "cell_type": "code",
   "execution_count": 3,
   "metadata": {},
   "outputs": [
    {
     "data": {
      "text/plain": [
       "619040"
      ]
     },
     "execution_count": 3,
     "metadata": {},
     "output_type": "execute_result"
    }
   ],
   "source": [
    "sp500_df.count()"
   ]
  },
  {
   "cell_type": "code",
   "execution_count": 4,
   "metadata": {},
   "outputs": [
    {
     "name": "stdout",
     "output_type": "stream",
     "text": [
      "+-------------------+-----+-----+-----+-----+--------+----+\n",
      "|               date| open| high|  low|close|  volume|Name|\n",
      "+-------------------+-----+-----+-----+-----+--------+----+\n",
      "|2013-02-08 00:00:00|15.07|15.12|14.63|14.75| 8407500| AAL|\n",
      "|2013-02-11 00:00:00|14.89|15.01|14.26|14.46| 8882000| AAL|\n",
      "|2013-02-12 00:00:00|14.45|14.51| 14.1|14.27| 8126000| AAL|\n",
      "|2013-02-13 00:00:00| 14.3|14.94|14.25|14.66|10259500| AAL|\n",
      "|2013-02-14 00:00:00|14.94|14.96|13.16|13.99|31879900| AAL|\n",
      "+-------------------+-----+-----+-----+-----+--------+----+\n",
      "only showing top 5 rows\n",
      "\n"
     ]
    }
   ],
   "source": [
    "sp500_df.show(5)"
   ]
  },
  {
   "cell_type": "code",
   "execution_count": 5,
   "metadata": {},
   "outputs": [
    {
     "name": "stdout",
     "output_type": "stream",
     "text": [
      "+-------+-----------------+-----------------+\n",
      "|summary|            close|           volume|\n",
      "+-------+-----------------+-----------------+\n",
      "|  count|           619040|           619040|\n",
      "|   mean|83.04376276476519|4321823.395568945|\n",
      "| stddev|97.38974800165782|8693609.511967566|\n",
      "|    min|             1.59|                0|\n",
      "|    max|           2049.0|        618237630|\n",
      "+-------+-----------------+-----------------+\n",
      "\n"
     ]
    }
   ],
   "source": [
    "sp500_df.describe('close', 'volume').show()"
   ]
  },
  {
   "cell_type": "markdown",
   "metadata": {},
   "source": [
    "### Pergunta 2\n",
    "#### Quantos registros há na planilha para a ação da Apple (AAPL)?"
   ]
  },
  {
   "cell_type": "code",
   "execution_count": 6,
   "metadata": {},
   "outputs": [
    {
     "data": {
      "text/plain": [
       "1259"
      ]
     },
     "execution_count": 6,
     "metadata": {},
     "output_type": "execute_result"
    }
   ],
   "source": [
    "from pyspark.sql.functions import col\n",
    "\n",
    "sp500_df.filter(col('Name') == 'AAPL').count()"
   ]
  },
  {
   "cell_type": "markdown",
   "metadata": {},
   "source": [
    "### Pergunta 3\n",
    "#### Quantas empresas distintas têm registros nessa planilha?"
   ]
  },
  {
   "cell_type": "code",
   "execution_count": 7,
   "metadata": {},
   "outputs": [
    {
     "name": "stdout",
     "output_type": "stream",
     "text": [
      "+--------------------+\n",
      "|count(DISTINCT Name)|\n",
      "+--------------------+\n",
      "|                 505|\n",
      "+--------------------+\n",
      "\n"
     ]
    }
   ],
   "source": [
    "from pyspark.sql.functions import countDistinct\n",
    "\n",
    "sp500_df.select(countDistinct('Name')).show()"
   ]
  },
  {
   "cell_type": "markdown",
   "metadata": {},
   "source": [
    "### Pergunta 4\n",
    "#### Com qual frequência o preço de uma ação no fechamento é maior do que o preço na abertura?"
   ]
  },
  {
   "cell_type": "code",
   "execution_count": 97,
   "metadata": {},
   "outputs": [
    {
     "data": {
      "text/plain": [
       "51.52655724993538"
      ]
     },
     "execution_count": 97,
     "metadata": {},
     "output_type": "execute_result"
    }
   ],
   "source": [
    "a = sp500_df.filter(sp500_df.close > sp500_df.open).count()\n",
    "b = sp500_df.count()\n",
    "\n",
    "a/b*100"
   ]
  },
  {
   "cell_type": "markdown",
   "metadata": {},
   "source": [
    "### Pergunta 5\n",
    "#### Qual o maior valor das ações da Apple (AAPL) na história?"
   ]
  },
  {
   "cell_type": "code",
   "execution_count": 104,
   "metadata": {},
   "outputs": [
    {
     "name": "stdout",
     "output_type": "stream",
     "text": [
      "+-------+------------------+\n",
      "|summary|              high|\n",
      "+-------+------------------+\n",
      "|  count|              1259|\n",
      "|   mean|109.95111834789516|\n",
      "| stddev|30.686186407983914|\n",
      "|    min|           57.0857|\n",
      "|    max|             180.1|\n",
      "+-------+------------------+\n",
      "\n"
     ]
    }
   ],
   "source": [
    "sp500_df.filter(sp500_df.Name == 'AAPL').describe('high').show()\n"
   ]
  },
  {
   "cell_type": "markdown",
   "metadata": {},
   "source": [
    "### Pergunta 6\n",
    "#### Qual ação tem a maior volatilidade? Uma forma é medir o desvio-padrão do preço de fechamento de cada ação e considerar a ação de maior desvio-padrão."
   ]
  },
  {
   "cell_type": "code",
   "execution_count": 10,
   "metadata": {},
   "outputs": [
    {
     "name": "stdout",
     "output_type": "stream",
     "text": [
      "+----+----------------+\n",
      "|Name|             std|\n",
      "+----+----------------+\n",
      "|PCLN|320.533473018748|\n",
      "+----+----------------+\n",
      "\n"
     ]
    }
   ],
   "source": [
    "from pyspark.sql import functions as F\n",
    "from pyspark.sql.types import *\n",
    "from pyspark.sql import Window as W\n",
    "\n",
    "\n",
    "#Usando uma Window Function para particionar o DataFrame pelo código da ação:\n",
    "w = W.partitionBy('Name')\n",
    "\n",
    "#Adicionando uma coluna com o desvio padrão calculado na pela partição de nome de ação:\n",
    "sp500_df = sp500_df.withColumn('std', F.stddev('close').over(w))\n",
    "\n",
    "sp500_df\\\n",
    "    .select('Name','std')\\\n",
    "    .orderBy(F.desc('std'))\\\n",
    "    .limit(1)\\\n",
    "    .show()\n",
    "\n"
   ]
  },
  {
   "cell_type": "markdown",
   "metadata": {},
   "source": [
    "### Pergunta 7\n",
    "#### Qual o dia com maior volume total de negociação da bolsa?"
   ]
  },
  {
   "cell_type": "code",
   "execution_count": 24,
   "metadata": {},
   "outputs": [
    {
     "name": "stdout",
     "output_type": "stream",
     "text": [
      "+-------------------+-----------+\n",
      "|               date|sum(volume)|\n",
      "+-------------------+-----------+\n",
      "|2015-08-24 00:00:00| 4607945196|\n",
      "+-------------------+-----------+\n",
      "only showing top 1 row\n",
      "\n"
     ]
    }
   ],
   "source": [
    "df = sp500_df\\\n",
    "    .select('date','volume')\\\n",
    "    .groupBy('date')\\\n",
    "    .sum('volume')\n",
    "\n",
    "df.orderBy(col('sum(volume)').desc()).show(1)"
   ]
  },
  {
   "cell_type": "markdown",
   "metadata": {},
   "source": [
    "### Pergunta 8\n",
    "#### Qual a ação mais negociada da bolsa, em volume de transações?"
   ]
  },
  {
   "cell_type": "code",
   "execution_count": 23,
   "metadata": {},
   "outputs": [
    {
     "name": "stdout",
     "output_type": "stream",
     "text": [
      "+----+------------+\n",
      "|Name| sum(volume)|\n",
      "+----+------------+\n",
      "| BAC|117884953591|\n",
      "+----+------------+\n",
      "only showing top 1 row\n",
      "\n"
     ]
    }
   ],
   "source": [
    "df1 = sp500_df\\\n",
    "    .select('Name','volume')\\\n",
    "    .groupBy('Name')\\\n",
    "    .sum('volume')\n",
    "\n",
    "df1.orderBy(col('sum(volume)').desc()).show(1)"
   ]
  },
  {
   "cell_type": "markdown",
   "metadata": {},
   "source": [
    "### Pergunta 9\n",
    "#### Quantas ações começam com a letra “A”?"
   ]
  },
  {
   "cell_type": "code",
   "execution_count": 93,
   "metadata": {},
   "outputs": [
    {
     "data": {
      "text/plain": [
       "59"
      ]
     },
     "execution_count": 93,
     "metadata": {},
     "output_type": "execute_result"
    }
   ],
   "source": [
    "df2 = sp500_df.dropDuplicates(['Name'])\n",
    "\n",
    "df2.filter(df2.Name.startswith('A')).count()"
   ]
  },
  {
   "cell_type": "markdown",
   "metadata": {},
   "source": [
    "### Pergunta 10\n",
    "#### Com qual frequência o preço mais alto do dia da ação também é o preço de fechamento?"
   ]
  },
  {
   "cell_type": "code",
   "execution_count": 31,
   "metadata": {},
   "outputs": [
    {
     "data": {
      "text/plain": [
       "1.1986301369863013"
      ]
     },
     "execution_count": 31,
     "metadata": {},
     "output_type": "execute_result"
    }
   ],
   "source": [
    "a = sp500_df.filter(sp500_df.close == sp500_df.high).count()\n",
    "b = sp500_df.count()\n",
    "\n",
    "a/b*100"
   ]
  },
  {
   "cell_type": "markdown",
   "metadata": {},
   "source": [
    "### Pergunta 11\n",
    "#### Em qual dia a ação da Apple mais subiu entre a abertura e o fechamento, de forma absoluta?"
   ]
  },
  {
   "cell_type": "code",
   "execution_count": 46,
   "metadata": {},
   "outputs": [
    {
     "name": "stdout",
     "output_type": "stream",
     "text": [
      "+-------------------+----+\n",
      "|               date| dif|\n",
      "+-------------------+----+\n",
      "|2015-08-24 00:00:00|8.25|\n",
      "+-------------------+----+\n",
      "only showing top 1 row\n",
      "\n"
     ]
    }
   ],
   "source": [
    "df3 = sp500_df.filter((sp500_df.Name == 'AAPL') &\\\n",
    "                (sp500_df.open < sp500_df.close))\n",
    "\n",
    "df3 = df3.withColumn('dif', col('close') - col('open'))\n",
    "\n",
    "df3.select('date','dif').orderBy(col('dif').desc()).show(1)"
   ]
  },
  {
   "cell_type": "markdown",
   "metadata": {},
   "source": [
    "### Pergunta 12\n",
    "#### Em média, qual o volume diário de transações das ações da AAPL?"
   ]
  },
  {
   "cell_type": "code",
   "execution_count": 98,
   "metadata": {},
   "outputs": [
    {
     "name": "stdout",
     "output_type": "stream",
     "text": [
      "+----+--------+\n",
      "|Name|   media|\n",
      "+----+--------+\n",
      "|AAPL|54047899|\n",
      "+----+--------+\n",
      "\n"
     ]
    }
   ],
   "source": [
    "media = sp500_df.groupBy('Name')\\\n",
    "        .agg(F.mean('volume').cast('int').alias('media'))\\\n",
    "        .filter(col('Name') == 'AAPL')\\\n",
    "        .show()"
   ]
  },
  {
   "cell_type": "markdown",
   "metadata": {},
   "source": [
    "### Pergunta 13\n",
    "#### Quantas ações tem 1, 2, 3, 4 e 5 caracteres em seu nome, respectivamente?"
   ]
  },
  {
   "cell_type": "code",
   "execution_count": 86,
   "metadata": {},
   "outputs": [
    {
     "name": "stdout",
     "output_type": "stream",
     "text": [
      "[10, 50, 323, 117, 5]\n"
     ]
    }
   ],
   "source": [
    "df4 = sp500_df.withColumn('sizeName', F.length('name'))\n",
    "df4 = df4.dropDuplicates(['Name'])\n",
    "lista = []\n",
    "for x in [1,2,3,4,5]:\n",
    "    lista.append(df4.filter(col('sizeName') == x).count())\n",
    "    \n",
    "print(lista)   "
   ]
  },
  {
   "cell_type": "markdown",
   "metadata": {},
   "source": [
    "### Pergunta 14\n",
    "#### Qual a ação menos negociada da bolsa, em volume de transações?"
   ]
  },
  {
   "cell_type": "code",
   "execution_count": 87,
   "metadata": {},
   "outputs": [
    {
     "name": "stdout",
     "output_type": "stream",
     "text": [
      "+----+-----------+\n",
      "|Name|sum(volume)|\n",
      "+----+-----------+\n",
      "|APTV|   92947779|\n",
      "+----+-----------+\n",
      "only showing top 1 row\n",
      "\n"
     ]
    }
   ],
   "source": [
    "df1 = sp500_df\\\n",
    "    .select('Name','volume')\\\n",
    "    .groupBy('Name')\\\n",
    "    .sum('volume')\n",
    "\n",
    "df1.orderBy(col('sum(volume)').asc()).show(1)"
   ]
  },
  {
   "cell_type": "markdown",
   "metadata": {},
   "source": [
    "### Pergunta 15\n",
    "#### Qual dessas afirmações NÃO ilustra uma diferença entre as abstrações RDD e Dataframe?\n",
    "\n",
    "  - **O Dataframe não é tolerante a falhas, enquanto o RDD sim (O “R” é de “resiliente”).**\n",
    "  - O Dataframe suporta diretamente manipulação de colunas. \n",
    "  - O RDD tem uma API mais flexível e livre que o Dataframe, dado que ele trabalha com objetos arbitrários. \n",
    "  - Computações com Dataframes podem ser mais eficientes que com RDDs, pelo fato do Spark conhecer as colunas sobre as quais vai operar."
   ]
  }
 ],
 "metadata": {
  "kernelspec": {
   "display_name": "Python 3 (ipykernel)",
   "language": "python",
   "name": "python3"
  },
  "language_info": {
   "codemirror_mode": {
    "name": "ipython",
    "version": 3
   },
   "file_extension": ".py",
   "mimetype": "text/x-python",
   "name": "python",
   "nbconvert_exporter": "python",
   "pygments_lexer": "ipython3",
   "version": "3.10.5"
  }
 },
 "nbformat": 4,
 "nbformat_minor": 2
}
