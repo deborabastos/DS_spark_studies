{
 "cells": [
  {
   "cell_type": "markdown",
   "id": "2d668b35",
   "metadata": {},
   "source": [
    "# Desafio - Modulo 2 - BootCamp Data Science - IGTI\n",
    "Trabalho desenvolvida com a implenetação do uso do FrameWork PySpark com Apach Spark\n",
    "Uso do método  Árvpre de decisão (Decision Tree) para identificação da possibilidade de ocorrência de derrame (stroke) em função das variáveis disponíveis no dataset stroke_data.csv "
   ]
  },
  {
   "cell_type": "code",
   "execution_count": 4,
   "id": "a3550062",
   "metadata": {},
   "outputs": [
    {
     "data": {
      "text/plain": [
       "'3.3.1'"
      ]
     },
     "execution_count": 4,
     "metadata": {},
     "output_type": "execute_result"
    }
   ],
   "source": [
    "# Criação do ambiente da Seção Spark e chevando a versão\n",
    "from pyspark.sql import SparkSession\n",
    "\n",
    "spark = SparkSession \\\n",
    "        .builder \\\n",
    "        .appName(\"Desafio Modulo 2 - Ciência de dados - SparkML\") \\\n",
    "        .getOrCreate()\n",
    "\n",
    "spark.version"
   ]
  },
  {
   "cell_type": "code",
   "execution_count": 5,
   "id": "502cdf73",
   "metadata": {},
   "outputs": [],
   "source": [
    "# Nesta celula deve ser feita a leitura do arquivo que contem o dataset a ser estudado\n",
    "stroke_df = spark.read.csv('./stroke_data.csv', header='True', inferSchema='True')"
   ]
  },
  {
   "cell_type": "code",
   "execution_count": 6,
   "id": "4ba7f3e8",
   "metadata": {},
   "outputs": [
    {
     "name": "stdout",
     "output_type": "stream",
     "text": [
      "+---+------+----+------------+-------------+------------+-------------+--------------+-----------------+-----+---------------+------+\n",
      "|  0|gender| age|hypertension|heart_disease|ever_married|    work_type|Residence_type|avg_glucose_level|  bmi| smoking_status|stroke|\n",
      "+---+------+----+------------+-------------+------------+-------------+--------------+-----------------+-----+---------------+------+\n",
      "|  1|Female|18.0|           0|            0|          No|      Private|         Urban|            94.19|12.12|         smokes|     1|\n",
      "|  2|  Male|58.0|           1|            0|         Yes|      Private|         Rural|           154.24| 33.7|   never_smoked|     0|\n",
      "|  3|Female|36.0|           0|            0|         Yes|     Govt_job|         Urban|            72.63| 24.7|         smokes|     0|\n",
      "|  4|Female|62.0|           0|            0|         Yes|Self-employed|         Rural|            85.52| 31.2|formerly smoked|     0|\n",
      "|  5|Female|82.0|           0|            0|         Yes|      Private|         Rural|            59.32| 33.2|         smokes|     1|\n",
      "+---+------+----+------------+-------------+------------+-------------+--------------+-----------------+-----+---------------+------+\n",
      "only showing top 5 rows\n",
      "\n"
     ]
    }
   ],
   "source": [
    "stroke_df.show(5)"
   ]
  },
  {
   "cell_type": "markdown",
   "id": "c24af572",
   "metadata": {},
   "source": [
    "### Pergunta 1\n",
    "#### Quantos registros existem no arquivo?"
   ]
  },
  {
   "cell_type": "code",
   "execution_count": 7,
   "id": "981bb18c",
   "metadata": {},
   "outputs": [
    {
     "data": {
      "text/plain": [
       "67135"
      ]
     },
     "execution_count": 7,
     "metadata": {},
     "output_type": "execute_result"
    }
   ],
   "source": [
    "stroke_df.count()"
   ]
  },
  {
   "cell_type": "markdown",
   "id": "bb4b4f56",
   "metadata": {},
   "source": [
    "### Pergunta 2\n",
    "#### Quantas colunas existem no arquivo? Quantas são numéricas? Ao ler o arquivo com spark.read.csv, habilite inferSchema=True. Use a função printSchema() da API de Dataframes."
   ]
  },
  {
   "cell_type": "code",
   "execution_count": 8,
   "id": "26f259e4",
   "metadata": {},
   "outputs": [
    {
     "name": "stdout",
     "output_type": "stream",
     "text": [
      "root\n",
      " |-- 0: integer (nullable = true)\n",
      " |-- gender: string (nullable = true)\n",
      " |-- age: double (nullable = true)\n",
      " |-- hypertension: integer (nullable = true)\n",
      " |-- heart_disease: integer (nullable = true)\n",
      " |-- ever_married: string (nullable = true)\n",
      " |-- work_type: string (nullable = true)\n",
      " |-- Residence_type: string (nullable = true)\n",
      " |-- avg_glucose_level: double (nullable = true)\n",
      " |-- bmi: double (nullable = true)\n",
      " |-- smoking_status: string (nullable = true)\n",
      " |-- stroke: integer (nullable = true)\n",
      "\n"
     ]
    }
   ],
   "source": [
    "stroke_df.printSchema()"
   ]
  },
  {
   "cell_type": "markdown",
   "id": "17798579",
   "metadata": {},
   "source": [
    "### Pergunta 3\n",
    "#### No conjunto de dados, quantos pacientes sofreram e não sofreram derrame (stroke), respectivamente?"
   ]
  },
  {
   "cell_type": "code",
   "execution_count": 9,
   "id": "768b7e38",
   "metadata": {},
   "outputs": [
    {
     "name": "stdout",
     "output_type": "stream",
     "text": [
      "+------+-----+\n",
      "|stroke|count|\n",
      "+------+-----+\n",
      "|     1|40287|\n",
      "|     0|26848|\n",
      "+------+-----+\n",
      "\n"
     ]
    }
   ],
   "source": [
    "# Sofreram derrame (Stroke)\n",
    "stroke_df.groupBy(['stroke']).count().show()"
   ]
  },
  {
   "cell_type": "markdown",
   "id": "f19f68ec",
   "metadata": {},
   "source": [
    "### Pergunta 4\n",
    "#### A partir do dataframe, crie uma tabela temporária usando df.createOrReplaceTempView('table') e a seguir use spark.sql para escrever uma consulta SQL que obtenha quantos pacientes tiveram derrame por tipo de trabalho (work_type). Quantos pacientes sofreram derrame e trabalhavam respectivamente, no setor privado, de forma independente, no governo e quantas são crianças?"
   ]
  },
  {
   "cell_type": "code",
   "execution_count": 10,
   "id": "83d9b263",
   "metadata": {},
   "outputs": [
    {
     "name": "stdout",
     "output_type": "stream",
     "text": [
      "+-------------+-----+\n",
      "|    work_type|total|\n",
      "+-------------+-----+\n",
      "| Never_worked|   85|\n",
      "|Self-employed|10807|\n",
      "|      Private|23711|\n",
      "|     children|  520|\n",
      "|     Govt_job| 5164|\n",
      "+-------------+-----+\n",
      "\n"
     ]
    }
   ],
   "source": [
    "# Consulta de numero de pessoas que sofreram derrame por área de atuação profissional\n",
    "stroke_df.createOrReplaceTempView('strokedf')\n",
    "df1 = spark.sql('SELECT work_type, COUNT(stroke) AS total FROM strokedf WHERE stroke = 1 GROUP BY work_type')\n",
    "df1.show()"
   ]
  },
  {
   "cell_type": "markdown",
   "id": "14b18773",
   "metadata": {},
   "source": [
    "### Pergunta 5\n",
    "#### Escreva uma consulta com spark.sql para determinar a proporção, por gênero, de participantes do estudo. A maioria dos participantes é:"
   ]
  },
  {
   "cell_type": "code",
   "execution_count": 11,
   "id": "552a3933",
   "metadata": {},
   "outputs": [
    {
     "name": "stdout",
     "output_type": "stream",
     "text": [
      "+------+-----+\n",
      "|gender|total|\n",
      "+------+-----+\n",
      "|Female|39530|\n",
      "| Other|   11|\n",
      "|  Male|27594|\n",
      "+------+-----+\n",
      "\n"
     ]
    }
   ],
   "source": [
    "# Consulta sobre a proporção entre os generos entre os participantes do estudo\n",
    "stroke_df.createOrReplaceTempView('strokedf')\n",
    "df1 = spark.sql('SELECT gender, COUNT(stroke) AS total FROM strokedf GROUP BY gender')\n",
    "df1.show()"
   ]
  },
  {
   "cell_type": "markdown",
   "id": "3d2a0e89",
   "metadata": {},
   "source": [
    "### Pergunta 6\n",
    "#### Escreva uma consulta com spark.sql para determinar quem tem mais probabilidade de sofrer derrame: hipertensos ou não-hipertensos. Você pode escrever uma consulta para cada grupo. A partir das probabilidades que você obteve, você conclui que:"
   ]
  },
  {
   "cell_type": "code",
   "execution_count": 12,
   "id": "82778e1e",
   "metadata": {},
   "outputs": [
    {
     "name": "stdout",
     "output_type": "stream",
     "text": [
      "+------------+------+-----+\n",
      "|hypertension|stroke|total|\n",
      "+------------+------+-----+\n",
      "|           1|     0| 2200|\n",
      "|           1|     1| 8817|\n",
      "|           0|     0|24648|\n",
      "|           0|     1|31470|\n",
      "+------------+------+-----+\n",
      "\n"
     ]
    }
   ],
   "source": [
    "# Comparando os números de derrames entre os grupos de hipertensos e não-hipertensos\n",
    "df2 = spark.sql('SELECT hypertension, stroke, COUNT(stroke) AS total FROM strokedf GROUP BY hypertension, stroke')\n",
    "df2.show()\n",
    "# proporção de strokes entre hipertensos é consideravelmente maior que entre os não hipertensos."
   ]
  },
  {
   "cell_type": "markdown",
   "id": "d23e02c8",
   "metadata": {},
   "source": [
    "### Pergunta 7\n",
    "#### Escreva uma consulta com spark.sql que determine o número de pessoas que sofreram derrame por idade. Com qual idade o maior número de pessoas do conjunto de dados sofreu derrame?"
   ]
  },
  {
   "cell_type": "code",
   "execution_count": 13,
   "id": "370d971c",
   "metadata": {},
   "outputs": [
    {
     "name": "stdout",
     "output_type": "stream",
     "text": [
      "+----+-----+\n",
      "| age|total|\n",
      "+----+-----+\n",
      "|79.0| 2916|\n",
      "+----+-----+\n",
      "only showing top 1 row\n",
      "\n"
     ]
    }
   ],
   "source": [
    "# Consulta com totalização de derrame por idade. E ordenação pela totalização e mostrando o item do topo da lista.\n",
    "df1 = spark.sql('SELECT age, COUNT(stroke) AS total FROM strokedf WHERE stroke=1 GROUP BY age ORDER BY total DESC')\n",
    "df1.show(1)"
   ]
  },
  {
   "cell_type": "markdown",
   "id": "dfcf1d5f",
   "metadata": {},
   "source": [
    "### Pergunta 8\n",
    "#### Usando a API de dataframes, determine quantas pessoas sofreram derrames após os 50 anos."
   ]
  },
  {
   "cell_type": "code",
   "execution_count": 14,
   "id": "cde55113",
   "metadata": {},
   "outputs": [
    {
     "data": {
      "text/plain": [
       "28938"
      ]
     },
     "execution_count": 14,
     "metadata": {},
     "output_type": "execute_result"
    }
   ],
   "source": [
    "stroke_df.filter((stroke_df.age > 50) & (stroke_df.stroke == 1)).count()"
   ]
  },
  {
   "cell_type": "markdown",
   "id": "63fb14c5",
   "metadata": {},
   "source": [
    "### Pergunta 9\n",
    "#### Usando spark.sql, determine qual o nível médio de glicose para pessoas que, respectivamente, sofreram e não sofreram derrame."
   ]
  },
  {
   "cell_type": "code",
   "execution_count": 15,
   "id": "227a4b73",
   "metadata": {},
   "outputs": [
    {
     "name": "stdout",
     "output_type": "stream",
     "text": [
      "+------+------------------+\n",
      "|stroke|             media|\n",
      "+------+------------------+\n",
      "|     1|119.95307046938272|\n",
      "|     0|103.60273130214506|\n",
      "+------+------------------+\n",
      "\n"
     ]
    }
   ],
   "source": [
    "# Média de glicose entre os que sofreram derrame e não sofreram derrame.\n",
    "df3 = spark.sql('SELECT stroke, AVG(avg_glucose_level) AS media FROM strokedf GROUP BY stroke')\n",
    "df3.show()"
   ]
  },
  {
   "cell_type": "markdown",
   "id": "ba6921c2",
   "metadata": {},
   "source": [
    "### Pergunta 10\n",
    "#### Qual é o BMI (IMC = índice de massa corpórea) médio de quem sofreu e não sofreu derrame?"
   ]
  },
  {
   "cell_type": "code",
   "execution_count": 16,
   "id": "e1fc04a1",
   "metadata": {},
   "outputs": [
    {
     "name": "stdout",
     "output_type": "stream",
     "text": [
      "+------+------------------+\n",
      "|stroke|             media|\n",
      "+------+------------------+\n",
      "|     1|29.942490629729495|\n",
      "|     0|27.989678933253657|\n",
      "+------+------------------+\n",
      "\n"
     ]
    }
   ],
   "source": [
    "df4 = spark.sql('SELECT stroke, AVG(bmi) AS media FROM strokedf GROUP BY stroke')\n",
    "df4.show()"
   ]
  },
  {
   "cell_type": "markdown",
   "id": "c35f523e",
   "metadata": {},
   "source": [
    "### Pergunta 11\n",
    "#### Crie um modelo de árvore de decisão que prevê a chance de derrame (stroke) a partir das variáveis contínuas/categóricas: idade, BMI, hipertensão, doença do coração, nível médio de glicose. Use o conteúdo da segunda aula interativa para criar e avaliar o modelo\n",
    "#### Qual a acurácia de um modelo construído?\n",
    "\n",
    "Desenvolvimento da modelagem usado algorítimo de Árvore de Decisão adicionando com as variáveis definidas acima."
   ]
  },
  {
   "cell_type": "code",
   "execution_count": 17,
   "id": "ef8f8785",
   "metadata": {},
   "outputs": [],
   "source": [
    "from pyspark.ml.feature import VectorAssembler\n",
    "\n",
    "assembler = VectorAssembler(inputCols=['age', 'hypertension','heart_disease','avg_glucose_level', 'bmi'], outputCol='features')"
   ]
  },
  {
   "cell_type": "code",
   "execution_count": 18,
   "id": "09e22b83",
   "metadata": {},
   "outputs": [],
   "source": [
    "from pyspark.ml.classification import DecisionTreeClassifier\n",
    "\n",
    "classifier = DecisionTreeClassifier(labelCol='stroke', featuresCol='features')"
   ]
  },
  {
   "cell_type": "code",
   "execution_count": 19,
   "id": "eb650f0b",
   "metadata": {},
   "outputs": [],
   "source": [
    "from pyspark.ml import Pipeline\n",
    "\n",
    "pipeline = Pipeline(stages=[assembler, classifier])"
   ]
  },
  {
   "cell_type": "code",
   "execution_count": 20,
   "id": "73bb9205",
   "metadata": {},
   "outputs": [],
   "source": [
    "# dividir de forma aleatória os grupos de dados para criar o modelo e para testar o modelo criado\n",
    "train_data, test_data = stroke_df.randomSplit([0.7, 0.3])"
   ]
  },
  {
   "cell_type": "code",
   "execution_count": 21,
   "id": "39c4f3cc",
   "metadata": {},
   "outputs": [
    {
     "name": "stdout",
     "output_type": "stream",
     "text": [
      "+---+------+----+------------+-------------+------------+-------------+--------------+-----------------+-----+---------------+------+\n",
      "|  0|gender| age|hypertension|heart_disease|ever_married|    work_type|Residence_type|avg_glucose_level|  bmi| smoking_status|stroke|\n",
      "+---+------+----+------------+-------------+------------+-------------+--------------+-----------------+-----+---------------+------+\n",
      "|  1|Female|18.0|           0|            0|          No|      Private|         Urban|            94.19|12.12|         smokes|     1|\n",
      "|  3|Female|36.0|           0|            0|         Yes|     Govt_job|         Urban|            72.63| 24.7|         smokes|     0|\n",
      "|  4|Female|62.0|           0|            0|         Yes|Self-employed|         Rural|            85.52| 31.2|formerly smoked|     0|\n",
      "|  9|Female|41.0|           0|            0|         Yes|     Govt_job|         Rural|            64.06| 33.8|         smokes|     1|\n",
      "| 11|Female|25.0|           0|            0|          No|      Private|         Urban|            91.15| 28.7|         smokes|     1|\n",
      "| 12|Female|43.0|           1|            0|          No|Self-employed|         Rural|            60.12| 34.2|formerly smoked|     0|\n",
      "+---+------+----+------------+-------------+------------+-------------+--------------+-----------------+-----+---------------+------+\n",
      "only showing top 6 rows\n",
      "\n"
     ]
    }
   ],
   "source": [
    "train_data.show(6)"
   ]
  },
  {
   "cell_type": "code",
   "execution_count": 22,
   "id": "bd6cbc14",
   "metadata": {},
   "outputs": [],
   "source": [
    "# Treinar o modelo como os dados de treinamento, usando o pipiline criado anteriormente.\n",
    "predictStrokeModel = pipeline.fit(train_data)\n",
    "# Nesta fase poderá haver algum erro no processo de modelagem em função de haver valores nulos.\n",
    "# Na tabela mostrada anteriormente podemos perceber que há valores nulos na coluna idade e isso deve ser corrigido."
   ]
  },
  {
   "cell_type": "code",
   "execution_count": 23,
   "id": "afcd4bb2",
   "metadata": {},
   "outputs": [
    {
     "name": "stdout",
     "output_type": "stream",
     "text": [
      "+----+----+------------+-------------+-----------------+----+------+----------+\n",
      "| age| bmi|hypertension|heart_disease|avg_glucose_level| bmi|stroke|prediction|\n",
      "+----+----+------------+-------------+-----------------+----+------+----------+\n",
      "|58.0|33.7|           1|            0|           154.24|33.7|     0|       1.0|\n",
      "|82.0|33.2|           0|            0|            59.32|33.2|     1|       1.0|\n",
      "|82.0|24.0|           0|            0|            234.5|24.0|     0|       1.0|\n",
      "|33.0|29.9|           0|            0|           193.42|29.9|     0|       1.0|\n",
      "|37.0|36.9|           0|            0|            156.7|36.9|     1|       0.0|\n",
      "|70.0|24.4|           0|            0|            76.34|24.4|     1|       1.0|\n",
      "|22.0|31.9|           0|            0|            72.05|31.9|     1|       0.0|\n",
      "|64.0|31.2|           1|            0|            84.49|31.2|     1|       1.0|\n",
      "|23.0|19.5|           0|            0|            87.52|19.5|     0|       1.0|\n",
      "|81.0|17.5|           0|            0|            81.48|17.5|     1|       1.0|\n",
      "+----+----+------------+-------------+-----------------+----+------+----------+\n",
      "only showing top 10 rows\n",
      "\n"
     ]
    }
   ],
   "source": [
    "predictions = predictStrokeModel.transform(test_data)\n",
    "predictions.select('age', 'bmi', 'hypertension','heart_disease','avg_glucose_level', 'bmi','stroke','prediction').show(10)"
   ]
  },
  {
   "cell_type": "code",
   "execution_count": 24,
   "id": "40803f94",
   "metadata": {},
   "outputs": [
    {
     "data": {
      "text/plain": [
       "DecisionTreeClassificationModel: uid=DecisionTreeClassifier_37be2dec29cd, depth=5, numNodes=37, numClasses=2, numFeatures=5"
      ]
     },
     "execution_count": 24,
     "metadata": {},
     "output_type": "execute_result"
    }
   ],
   "source": [
    "decisionTreeModel = predictStrokeModel.stages[1]\n",
    "decisionTreeModel"
   ]
  },
  {
   "cell_type": "code",
   "execution_count": 25,
   "id": "3413d92f",
   "metadata": {},
   "outputs": [
    {
     "data": {
      "text/plain": [
       "[('age', 0.9412397272376523),\n",
       " ('hypertension', 0.021663806541208135),\n",
       " ('heart_disease', 0.023442809882109204),\n",
       " ('avg_glucose_level', 0.01365365633903037)]"
      ]
     },
     "execution_count": 25,
     "metadata": {},
     "output_type": "execute_result"
    }
   ],
   "source": [
    "list(zip(assembler.getInputCols(), decisionTreeModel.featureImportances.values))"
   ]
  },
  {
   "cell_type": "code",
   "execution_count": 26,
   "id": "fd4ca82b",
   "metadata": {},
   "outputs": [
    {
     "data": {
      "text/plain": [
       "['age', 'hypertension', 'heart_disease', 'avg_glucose_level', 'bmi']"
      ]
     },
     "execution_count": 26,
     "metadata": {},
     "output_type": "execute_result"
    }
   ],
   "source": [
    "assembler.getInputCols()"
   ]
  },
  {
   "cell_type": "code",
   "execution_count": 27,
   "id": "230def8a",
   "metadata": {},
   "outputs": [
    {
     "data": {
      "text/plain": [
       "SparseVector(5, {0: 0.9412, 1: 0.0217, 3: 0.0234, 4: 0.0137})"
      ]
     },
     "execution_count": 27,
     "metadata": {},
     "output_type": "execute_result"
    }
   ],
   "source": [
    "decisionTreeModel.featureImportances"
   ]
  },
  {
   "cell_type": "markdown",
   "id": "6acc3cd3",
   "metadata": {},
   "source": [
    "#### Restosta da pergunta 11 na celula seguinte"
   ]
  },
  {
   "cell_type": "code",
   "execution_count": 28,
   "id": "f2187111",
   "metadata": {},
   "outputs": [
    {
     "data": {
      "text/plain": [
       "68.35209724021122"
      ]
     },
     "execution_count": 28,
     "metadata": {},
     "output_type": "execute_result"
    }
   ],
   "source": [
    "from pyspark.ml.evaluation import MulticlassClassificationEvaluator\n",
    "\n",
    "evaluator = MulticlassClassificationEvaluator(labelCol='stroke', predictionCol='prediction', metricName='accuracy')\n",
    "accuracy = evaluator.evaluate(predictions)\n",
    "\n",
    "accuracy*100"
   ]
  },
  {
   "cell_type": "markdown",
   "id": "805961a0",
   "metadata": {},
   "source": [
    "### Pergunta 12\n",
    "#### Adicione ao modelo as variáveis categóricas: gênero e status de fumante. Use o conteúdo da aula interativa para lidar com as variáveis categóricas.  A acurácia (qualidade) do modelo aumentou para:\n",
    "\n",
    "Desenvolvimento da modelagem usado algorítimo de Árvore de Decisão adicionando mais duas variáveis categóricas."
   ]
  },
  {
   "cell_type": "code",
   "execution_count": 29,
   "id": "cc95a182",
   "metadata": {},
   "outputs": [],
   "source": [
    "from pyspark.ml.feature import StringIndexer, OneHotEncoder\n",
    "\n",
    "# indexando uma variável gender (coluna do dataset) em indice numérico\n",
    "gender_indexer = StringIndexer(inputCol='gender', outputCol='GenderIndexer')\n",
    "# transformando o indice numério em colunas binárias (0 ou 1) - vetore\n",
    "gender_encoder = OneHotEncoder(inputCol='GenderIndexer', outputCol='GenderVector')\n",
    "\n",
    "# indexando uma variável  smoking_status (coluna do dataset) em indice numérico\n",
    "smoke_indexer = StringIndexer(inputCol='smoking_status', outputCol='SmokeIndexer')\n",
    "# transformando o indice numério em colunas binárias (0 ou 1) - vetore\n",
    "smoke_encoder = OneHotEncoder(inputCol='SmokeIndexer', outputCol='SmokeVector')\n",
    "# isso é necessário em função da necessidade de se analisar números\n",
    "\n",
    "# Montagem dass colunas (variáveis/features) para a modelagem\n",
    "assembler = VectorAssembler(inputCols=['age', 'bmi', 'hypertension','heart_disease','avg_glucose_level','GenderVector','SmokeVector']\n",
    "                            , outputCol='features')\n",
    "\n",
    "# Montando o tipo de classificação a ser executada features => stroke\n",
    "classifier = DecisionTreeClassifier(labelCol='stroke', featuresCol='features')\n",
    "\n",
    "# Construindo o pipeline ou sequencia de processos para a modelagem\n",
    "pipeline = Pipeline(stages=[gender_indexer, gender_encoder, smoke_indexer, smoke_encoder, assembler, classifier])\n",
    "\n"
   ]
  },
  {
   "cell_type": "code",
   "execution_count": 30,
   "id": "eaafd277",
   "metadata": {},
   "outputs": [],
   "source": [
    "# Dividindo o data frame entre dados de treino e dados de teste \n",
    "train_data, test_data = stroke_df.randomSplit([0.7, 0.3])"
   ]
  },
  {
   "cell_type": "code",
   "execution_count": 31,
   "id": "a530799b",
   "metadata": {},
   "outputs": [],
   "source": [
    "# Criando o modelo sobre os dados de treino conforme o pipeline anterior\n",
    "predictStrokeModel = pipeline.fit(train_data)"
   ]
  },
  {
   "cell_type": "code",
   "execution_count": 32,
   "id": "01d8412a",
   "metadata": {},
   "outputs": [
    {
     "name": "stdout",
     "output_type": "stream",
     "text": [
      "+----+-----+------------+-------------+-----------------+------+-------------+---------------+-------------+------+----------+\n",
      "| age|  bmi|hypertension|heart_disease|avg_glucose_level|gender| GenderVector| smoking_status|  SmokeVector|stroke|prediction|\n",
      "+----+-----+------------+-------------+-----------------+------+-------------+---------------+-------------+------+----------+\n",
      "|18.0|12.12|           0|            0|            94.19|Female|(2,[0],[1.0])|         smokes|(2,[0],[1.0])|     1|       1.0|\n",
      "|82.0| 33.2|           0|            0|            59.32|Female|(2,[0],[1.0])|         smokes|(2,[0],[1.0])|     1|       1.0|\n",
      "|82.0| 24.0|           0|            0|            234.5|Female|(2,[0],[1.0])|formerly smoked|(2,[1],[1.0])|     0|       1.0|\n",
      "|37.0| 36.9|           0|            0|            156.7|Female|(2,[0],[1.0])|         smokes|(2,[0],[1.0])|     1|       1.0|\n",
      "|72.0| 40.3|           0|            1|           235.22|  Male|(2,[1],[1.0])|formerly smoked|(2,[1],[1.0])|     1|       1.0|\n",
      "|20.0| 33.7|           0|            0|           106.47|Female|(2,[0],[1.0])|         smokes|(2,[0],[1.0])|     1|       1.0|\n",
      "|41.0| 34.6|           0|            0|            159.3|  Male|(2,[1],[1.0])|         smokes|(2,[0],[1.0])|     1|       1.0|\n",
      "|23.0| 23.8|           0|            0|           116.95|Female|(2,[0],[1.0])|         smokes|(2,[0],[1.0])|     1|       1.0|\n",
      "|44.0| 36.1|           0|            0|           135.03|Female|(2,[0],[1.0])|         smokes|(2,[0],[1.0])|     1|       1.0|\n",
      "|79.0| 24.1|           0|            0|           110.85|Female|(2,[0],[1.0])|formerly smoked|(2,[1],[1.0])|     1|       1.0|\n",
      "|23.0| 19.5|           0|            0|            87.52|Female|(2,[0],[1.0])|   never_smoked|    (2,[],[])|     0|       0.0|\n",
      "|51.0| 42.5|           1|            0|           112.16|  Male|(2,[1],[1.0])|formerly smoked|(2,[1],[1.0])|     1|       0.0|\n",
      "|70.0| 28.0|           0|            1|           231.88|Female|(2,[0],[1.0])|formerly smoked|(2,[1],[1.0])|     1|       1.0|\n",
      "|51.0| 42.5|           1|            0|           112.16|  Male|(2,[1],[1.0])|formerly smoked|(2,[1],[1.0])|     1|       0.0|\n",
      "|56.0| 24.0|           0|            0|           110.04|  Male|(2,[1],[1.0])|         smokes|(2,[0],[1.0])|     1|       1.0|\n",
      "+----+-----+------------+-------------+-----------------+------+-------------+---------------+-------------+------+----------+\n",
      "only showing top 15 rows\n",
      "\n"
     ]
    }
   ],
   "source": [
    "predictions = predictStrokeModel.transform(test_data)\n",
    "predictions.select('age', 'bmi', 'hypertension','heart_disease','avg_glucose_level','gender','GenderVector','smoking_status','SmokeVector','stroke','prediction').show(15)"
   ]
  },
  {
   "cell_type": "markdown",
   "id": "a0390c45",
   "metadata": {},
   "source": [
    "#### Restosta da pergunta 12 na célula seguinte"
   ]
  },
  {
   "cell_type": "code",
   "execution_count": 33,
   "id": "aa090d84",
   "metadata": {},
   "outputs": [
    {
     "data": {
      "text/plain": [
       "83.5776397515528"
      ]
     },
     "execution_count": 33,
     "metadata": {},
     "output_type": "execute_result"
    }
   ],
   "source": [
    "evaluator = MulticlassClassificationEvaluator(labelCol='stroke', predictionCol='prediction', metricName='accuracy')\n",
    "accuracy = evaluator.evaluate(predictions)\n",
    "\n",
    "accuracy*100"
   ]
  },
  {
   "cell_type": "markdown",
   "id": "05e80728",
   "metadata": {},
   "source": [
    "### Pergunta 13\n",
    "#### Qual dessas variáveis é mais importante no modelo de árvore de decisão que você construiu na questão (12)?"
   ]
  },
  {
   "cell_type": "code",
   "execution_count": 34,
   "id": "51381ed5",
   "metadata": {},
   "outputs": [
    {
     "data": {
      "text/plain": [
       "DecisionTreeClassificationModel: uid=DecisionTreeClassifier_009623323683, depth=5, numNodes=19, numClasses=2, numFeatures=9"
      ]
     },
     "execution_count": 34,
     "metadata": {},
     "output_type": "execute_result"
    }
   ],
   "source": [
    "# O valor referente ao stages corresponde ao estágio do pipeline que representa a fase ou estagio 'classifier'\n",
    "# pipeline = Pipeline(stages=[gender_indexer, gender_encoder, smoke_indexer, smoke_encoder, assembler, classifier])\n",
    "\n",
    "decisionTreeModel = predictStrokeModel.stages[5]\n",
    "decisionTreeModel"
   ]
  },
  {
   "cell_type": "code",
   "execution_count": 35,
   "id": "a4d9cfd9",
   "metadata": {},
   "outputs": [
    {
     "data": {
      "text/plain": [
       "[('age', 0.16886236235303517),\n",
       " ('bmi', 0.0010033282353134124),\n",
       " ('hypertension', 0.007421700649007434),\n",
       " ('heart_disease', 0.49443870091602005),\n",
       " ('avg_glucose_level', 0.3282739078466239)]"
      ]
     },
     "execution_count": 35,
     "metadata": {},
     "output_type": "execute_result"
    }
   ],
   "source": [
    "# Monta uma lista de features (variaveis) usadas para montar o modelo e associa aos valores de importãncia de cada features\n",
    "features_importaces = list(zip(assembler.getInputCols(), decisionTreeModel.featureImportances.values))\n",
    "features_importaces\n",
    "\n",
    "# É bom sempre verificar os dados separadamente para saber se não há problema de apresentação dos dados"
   ]
  },
  {
   "cell_type": "code",
   "execution_count": 36,
   "id": "085bd895",
   "metadata": {},
   "outputs": [
    {
     "data": {
      "text/plain": [
       "array([0.16886236, 0.00100333, 0.0074217 , 0.4944387 , 0.32827391])"
      ]
     },
     "execution_count": 36,
     "metadata": {},
     "output_type": "execute_result"
    }
   ],
   "source": [
    "# Apresenta os valores não-zero do vetor\n",
    "decisionTreeModel.featureImportances.values"
   ]
  },
  {
   "cell_type": "code",
   "execution_count": 37,
   "id": "e2f1c81d",
   "metadata": {},
   "outputs": [
    {
     "data": {
      "text/plain": [
       "['age',\n",
       " 'bmi',\n",
       " 'hypertension',\n",
       " 'heart_disease',\n",
       " 'avg_glucose_level',\n",
       " 'GenderVector',\n",
       " 'SmokeVector']"
      ]
     },
     "execution_count": 37,
     "metadata": {},
     "output_type": "execute_result"
    }
   ],
   "source": [
    "assembler.getInputCols()"
   ]
  },
  {
   "cell_type": "markdown",
   "id": "197f1ca5",
   "metadata": {},
   "source": [
    "### Pergunta 14\n",
    "#### Qual a profundidade da árvore de decisão da questão (12)?"
   ]
  },
  {
   "cell_type": "code",
   "execution_count": 38,
   "id": "19ddd149",
   "metadata": {},
   "outputs": [
    {
     "data": {
      "text/plain": [
       "'DecisionTreeClassificationModel: uid=DecisionTreeClassifier_009623323683, depth=5, numNodes=19, numClasses=2, numFeatures=9\\n  If (feature 7 in {0.0})\\n   If (feature 8 in {0.0})\\n    Predict: 0.0\\n   Else (feature 8 not in {0.0})\\n    If (feature 0 <= 56.5)\\n     Predict: 0.0\\n    Else (feature 0 > 56.5)\\n     If (feature 0 <= 74.5)\\n      If (feature 4 <= 72.685)\\n       Predict: 0.0\\n      Else (feature 4 > 72.685)\\n       Predict: 1.0\\n     Else (feature 0 > 74.5)\\n      Predict: 1.0\\n  Else (feature 7 not in {0.0})\\n   If (feature 0 <= 66.5)\\n    Predict: 1.0\\n   Else (feature 0 > 66.5)\\n    If (feature 0 <= 72.5)\\n     If (feature 1 <= 20.45)\\n      If (feature 1 <= 17.15)\\n       Predict: 1.0\\n      Else (feature 1 > 17.15)\\n       Predict: 0.0\\n     Else (feature 1 > 20.45)\\n      Predict: 1.0\\n    Else (feature 0 > 72.5)\\n     Predict: 1.0\\n'"
      ]
     },
     "execution_count": 38,
     "metadata": {},
     "output_type": "execute_result"
    }
   ],
   "source": [
    "decisionTreeModel.toDebugString"
   ]
  },
  {
   "cell_type": "code",
   "execution_count": 39,
   "id": "1df1ab1c",
   "metadata": {},
   "outputs": [
    {
     "data": {
      "text/plain": [
       "5"
      ]
     },
     "execution_count": 39,
     "metadata": {},
     "output_type": "execute_result"
    }
   ],
   "source": [
    "decisionTreeModel = predictStrokeModel.stages[5]\n",
    "decisionTreeModel.depth"
   ]
  },
  {
   "cell_type": "markdown",
   "id": "11ed899a",
   "metadata": {},
   "source": [
    "### Pergunta 15\n",
    "#### Quantos nodos a árvore de decisão possui?"
   ]
  },
  {
   "cell_type": "code",
   "execution_count": 40,
   "id": "f321345d",
   "metadata": {},
   "outputs": [
    {
     "data": {
      "text/plain": [
       "19"
      ]
     },
     "execution_count": 40,
     "metadata": {},
     "output_type": "execute_result"
    }
   ],
   "source": [
    "decisionTreeModel.numNodes"
   ]
  },
  {
   "cell_type": "code",
   "execution_count": 41,
   "id": "79b21cbc",
   "metadata": {},
   "outputs": [
    {
     "data": {
      "text/plain": [
       "9"
      ]
     },
     "execution_count": 41,
     "metadata": {},
     "output_type": "execute_result"
    }
   ],
   "source": [
    "decisionTreeModel.numFeatures"
   ]
  }
 ],
 "metadata": {
  "kernelspec": {
   "display_name": "Python 3",
   "language": "python",
   "name": "python3"
  },
  "language_info": {
   "codemirror_mode": {
    "name": "ipython",
    "version": 3
   },
   "file_extension": ".py",
   "mimetype": "text/x-python",
   "name": "python",
   "nbconvert_exporter": "python",
   "pygments_lexer": "ipython3",
   "version": "3.10.3"
  },
  "vscode": {
   "interpreter": {
    "hash": "98590ff4fe04c8543246b2a01debd3de3c5ca9b666f43f1fa87d5110c692004c"
   }
  }
 },
 "nbformat": 4,
 "nbformat_minor": 5
}
