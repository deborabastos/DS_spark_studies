{
 "cells": [
  {
   "cell_type": "code",
   "execution_count": 10,
   "metadata": {},
   "outputs": [],
   "source": [
    "# import libraries\n",
    "from pyspark.sql import SparkSession\n",
    "from pyspark.sql.functions import avg"
   ]
  },
  {
   "cell_type": "code",
   "execution_count": 11,
   "metadata": {},
   "outputs": [
    {
     "name": "stdout",
     "output_type": "stream",
     "text": [
      "22/12/12 02:58:49 WARN SparkSession: Using an existing Spark session; only runtime SQL configurations will take effect.\n"
     ]
    }
   ],
   "source": [
    "spark = (SparkSession.builder\n",
    "        .appName(\"Ages\")\n",
    "        .getOrCreate())"
   ]
  },
  {
   "attachments": {},
   "cell_type": "markdown",
   "metadata": {},
   "source": [
    "### Using RDD"
   ]
  },
  {
   "cell_type": "code",
   "execution_count": 12,
   "metadata": {},
   "outputs": [
    {
     "data": {
      "text/plain": [
       "[('João', 12.0), ('Pedro', 38.0), ('Maria', 26.0)]"
      ]
     },
     "execution_count": 12,
     "metadata": {},
     "output_type": "execute_result"
    }
   ],
   "source": [
    "#Agregate all ages by name and get the average name by age\n",
    "#Create an RDD of tuples (name, age)\n",
    "\n",
    "dataRDD = spark.sparkContext.parallelize([(\"Pedro\", 38), (\"Maria\", 42), (\"João\", 12), (\"Maria\", 10)])\n",
    "\n",
    "avgRDD = (dataRDD \\\n",
    "    .map(lambda x : (x[0], (x[1],1))) \\\n",
    "    .reduceByKey(lambda x,y : (x[0] + y[0], x[1] + y[1])) \\\n",
    "    .map(lambda x : (x[0], x[1][0]/x[1][1]))\n",
    "    )\n",
    "\n",
    "avgRDD.collect()"
   ]
  },
  {
   "attachments": {},
   "cell_type": "markdown",
   "metadata": {},
   "source": [
    "### Using Dartaframe"
   ]
  },
  {
   "cell_type": "code",
   "execution_count": 20,
   "metadata": {},
   "outputs": [
    {
     "name": "stdout",
     "output_type": "stream",
     "text": [
      "+-----+----------+\n",
      "| nome|avg(idade)|\n",
      "+-----+----------+\n",
      "|Pedro|      38.0|\n",
      "|Maria|      26.0|\n",
      "| João|      12.0|\n",
      "+-----+----------+\n",
      "\n"
     ]
    }
   ],
   "source": [
    "data_df = spark.createDataFrame([(\"Pedro\", 38), (\"Maria\", 42), (\"João\", 12), (\"Maria\", 10)], [\"nome\", \"idade\"])\n",
    "\n",
    "avg_df = data_df.groupBy(\"nome\").agg(avg(\"idade\"))\n",
    "\n",
    "avg_df.show()"
   ]
  },
  {
   "cell_type": "code",
   "execution_count": 17,
   "metadata": {},
   "outputs": [
    {
     "name": "stdout",
     "output_type": "stream",
     "text": [
      "+-----+-----+\n",
      "| nome|idade|\n",
      "+-----+-----+\n",
      "| João|   12|\n",
      "|Maria|   10|\n",
      "+-----+-----+\n",
      "\n"
     ]
    }
   ],
   "source": [
    "young = data_df.filter(data_df.idade < 18)\n",
    "young.show()"
   ]
  },
  {
   "cell_type": "code",
   "execution_count": 18,
   "metadata": {},
   "outputs": [
    {
     "name": "stdout",
     "output_type": "stream",
     "text": [
      "+-----+-----+\n",
      "| nome|idade|\n",
      "+-----+-----+\n",
      "|Pedro|   38|\n",
      "|Maria|   42|\n",
      "+-----+-----+\n",
      "\n"
     ]
    }
   ],
   "source": [
    "old = data_df[data_df.idade > 18]\n",
    "old.show()"
   ]
  },
  {
   "cell_type": "code",
   "execution_count": 19,
   "metadata": {},
   "outputs": [
    {
     "name": "stdout",
     "output_type": "stream",
     "text": [
      "+-----+-----------+\n",
      "| nome|(idade + 1)|\n",
      "+-----+-----------+\n",
      "| João|         13|\n",
      "|Maria|         11|\n",
      "+-----+-----------+\n",
      "\n"
     ]
    }
   ],
   "source": [
    "young.select(young.nome, young.idade + 1).show()"
   ]
  },
  {
   "cell_type": "code",
   "execution_count": null,
   "metadata": {},
   "outputs": [],
   "source": [
    "spark.stop()"
   ]
  }
 ],
 "metadata": {
  "kernelspec": {
   "display_name": "Python 3",
   "language": "python",
   "name": "python3"
  },
  "language_info": {
   "codemirror_mode": {
    "name": "ipython",
    "version": 3
   },
   "file_extension": ".py",
   "mimetype": "text/x-python",
   "name": "python",
   "nbconvert_exporter": "python",
   "pygments_lexer": "ipython3",
   "version": "3.10.3 (v3.10.3:a342a49189, Mar 16 2022, 09:34:18) [Clang 13.0.0 (clang-1300.0.29.30)]"
  },
  "orig_nbformat": 4,
  "vscode": {
   "interpreter": {
    "hash": "98590ff4fe04c8543246b2a01debd3de3c5ca9b666f43f1fa87d5110c692004c"
   }
  }
 },
 "nbformat": 4,
 "nbformat_minor": 2
}
