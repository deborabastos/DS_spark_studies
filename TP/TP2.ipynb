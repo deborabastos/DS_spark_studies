{
 "cells": [
  {
   "cell_type": "code",
   "execution_count": 1,
   "metadata": {},
   "outputs": [],
   "source": [
    "# import libraries\n",
    "from pyspark.sql import SparkSession\n",
    "from pyspark.sql.functions import length, rand, randn, mean, min, max, avg, stddev, sum\n",
    "from pyspark import SparkContext\n",
    "from pyspark.sql import SQLContext"
   ]
  },
  {
   "cell_type": "code",
   "execution_count": 2,
   "metadata": {},
   "outputs": [
    {
     "name": "stdout",
     "output_type": "stream",
     "text": [
      "23/01/31 02:02:31 WARN Utils: Your hostname, Deboras-MacBook-Pro.local resolves to a loopback address: 127.0.0.1; using 192.168.68.104 instead (on interface en0)\n",
      "23/01/31 02:02:31 WARN Utils: Set SPARK_LOCAL_IP if you need to bind to another address\n"
     ]
    },
    {
     "name": "stderr",
     "output_type": "stream",
     "text": [
      "Setting default log level to \"WARN\".\n",
      "To adjust logging level use sc.setLogLevel(newLevel). For SparkR, use setLogLevel(newLevel).\n"
     ]
    },
    {
     "name": "stdout",
     "output_type": "stream",
     "text": [
      "23/01/31 02:02:31 WARN NativeCodeLoader: Unable to load native-hadoop library for your platform... using builtin-java classes where applicable\n"
     ]
    }
   ],
   "source": [
    "#Start spark session\n",
    "spark = (SparkSession\n",
    "        .builder\n",
    "        .appName(\"TrabalhoPratico\")\n",
    "        .getOrCreate())"
   ]
  },
  {
   "cell_type": "code",
   "execution_count": 3,
   "metadata": {},
   "outputs": [
    {
     "name": "stdout",
     "output_type": "stream",
     "text": [
      "+-------------------+-----+-----+-----+-----+--------+----+\n",
      "|               date| open| high|  low|close|  volume|Name|\n",
      "+-------------------+-----+-----+-----+-----+--------+----+\n",
      "|2013-02-08 00:00:00|15.07|15.12|14.63|14.75| 8407500| AAL|\n",
      "|2013-02-11 00:00:00|14.89|15.01|14.26|14.46| 8882000| AAL|\n",
      "|2013-02-12 00:00:00|14.45|14.51| 14.1|14.27| 8126000| AAL|\n",
      "|2013-02-13 00:00:00| 14.3|14.94|14.25|14.66|10259500| AAL|\n",
      "|2013-02-14 00:00:00|14.94|14.96|13.16|13.99|31879900| AAL|\n",
      "|2013-02-15 00:00:00|13.93|14.61|13.93| 14.5|15628000| AAL|\n",
      "|2013-02-19 00:00:00|14.33|14.56|14.08|14.26|11354400| AAL|\n",
      "|2013-02-20 00:00:00|14.17|14.26|13.15|13.33|14725200| AAL|\n",
      "|2013-02-21 00:00:00|13.62|13.95| 12.9|13.37|11922100| AAL|\n",
      "|2013-02-22 00:00:00|13.57| 13.6|13.21|13.57| 6071400| AAL|\n",
      "+-------------------+-----+-----+-----+-----+--------+----+\n",
      "only showing top 10 rows\n",
      "\n"
     ]
    }
   ],
   "source": [
    "df = (spark.read.format(\"csv\")\n",
    "    .option(\"header\", \"true\")\n",
    "    .option(\"inferSchema\", \"true\")\n",
    "    .load(\"./all_stocks_5yr.csv\"))\n",
    "df.show(10)"
   ]
  },
  {
   "cell_type": "code",
   "execution_count": 4,
   "metadata": {},
   "outputs": [
    {
     "data": {
      "text/plain": [
       "619040"
      ]
     },
     "execution_count": 4,
     "metadata": {},
     "output_type": "execute_result"
    }
   ],
   "source": [
    "# Quantos registros há na planilha?\n",
    "df.count()"
   ]
  },
  {
   "cell_type": "code",
   "execution_count": 5,
   "metadata": {},
   "outputs": [
    {
     "data": {
      "text/plain": [
       "1259"
      ]
     },
     "execution_count": 5,
     "metadata": {},
     "output_type": "execute_result"
    }
   ],
   "source": [
    "# Quantos registros há na planilha para a ação da Apple (AAPL)?\n",
    "apple = df.filter(df.Name == \"AAPL\")\n",
    "apple.count()"
   ]
  },
  {
   "cell_type": "code",
   "execution_count": 6,
   "metadata": {},
   "outputs": [
    {
     "data": {
      "text/plain": [
       "505"
      ]
     },
     "execution_count": 6,
     "metadata": {},
     "output_type": "execute_result"
    }
   ],
   "source": [
    "# Quantas empresas distintas têm registros nessa planilha?\n",
    "distinctNames = df.groupBy(\"Name\").agg(avg(\"open\"))\n",
    "distinctNames.count()\n",
    "# distinctNames.show(20)"
   ]
  },
  {
   "cell_type": "code",
   "execution_count": 7,
   "metadata": {},
   "outputs": [
    {
     "data": {
      "text/plain": [
       "51.52655724993538"
      ]
     },
     "execution_count": 7,
     "metadata": {},
     "output_type": "execute_result"
    }
   ],
   "source": [
    "#Com qual frequência o preço de uma ação no fechamento é maior do que o preço na abertura?\n",
    "(df.filter(df.close > df.open).count() / df.count()) * 100\n"
   ]
  },
  {
   "cell_type": "code",
   "execution_count": 8,
   "metadata": {},
   "outputs": [
    {
     "name": "stdout",
     "output_type": "stream",
     "text": [
      "+---------+\n",
      "|max(high)|\n",
      "+---------+\n",
      "|    180.1|\n",
      "+---------+\n",
      "\n"
     ]
    }
   ],
   "source": [
    "#Qual o maior valor das ações da Apple (AAPL) na história?\n",
    "df.filter(df.Name == \"AAPL\").select(max('high')).show()\n"
   ]
  },
  {
   "cell_type": "code",
   "execution_count": 9,
   "metadata": {},
   "outputs": [
    {
     "name": "stdout",
     "output_type": "stream",
     "text": [
      "+-----+------------------+\n",
      "| Name|      stddev_close|\n",
      "+-----+------------------+\n",
      "| PCLN|  320.533473018748|\n",
      "| AMZN|  282.500395033522|\n",
      "|GOOGL|187.57389185479704|\n",
      "| GOOG|166.42052902768182|\n",
      "|  MTD|131.39721989584996|\n",
      "|  AZO|130.74959678201296|\n",
      "|  CMG|130.28062354899413|\n",
      "| EQIX| 95.21280494966273|\n",
      "| REGN| 94.06934511650653|\n",
      "| CHTR| 83.63699908227738|\n",
      "| ISRG| 72.97599882123069|\n",
      "| AVGO| 71.41622240006728|\n",
      "| ULTA| 67.15184610039526|\n",
      "|  NOC| 66.39592749504422|\n",
      "|  SHW| 64.52058470708296|\n",
      "|  LMT| 62.41202936228181|\n",
      "|  BLK| 62.33688426948667|\n",
      "| NVDA| 59.62464184686514|\n",
      "| ORLY| 59.09508035311545|\n",
      "|  AGN|59.026349830314544|\n",
      "+-----+------------------+\n",
      "only showing top 20 rows\n",
      "\n"
     ]
    }
   ],
   "source": [
    "#Qual ação tem a maior volatilidade? Uma forma é medir o desvio-padrão do preço de fechamento de cada ação e considerar a ação de maior desvio-padrão.\n",
    "df_stddev = df.groupBy(\"Name\").agg(stddev(\"close\").alias(\"stddev_close\"))\n",
    "df_stddev.sort(df_stddev.stddev_close.desc()).show()"
   ]
  },
  {
   "cell_type": "code",
   "execution_count": 10,
   "metadata": {},
   "outputs": [
    {
     "name": "stdout",
     "output_type": "stream",
     "text": [
      "+-------------------+----------+\n",
      "|               date|sum_volume|\n",
      "+-------------------+----------+\n",
      "|2015-08-24 00:00:00|4607945196|\n",
      "|2016-06-24 00:00:00|4367393052|\n",
      "|2015-12-18 00:00:00|4124454411|\n",
      "|2016-01-20 00:00:00|4087629753|\n",
      "|2018-02-06 00:00:00|4072080890|\n",
      "|2016-11-10 00:00:00|4060601612|\n",
      "|2014-10-15 00:00:00|3993171524|\n",
      "|2013-06-21 00:00:00|3983923288|\n",
      "|2015-09-18 00:00:00|3962050449|\n",
      "|2016-11-09 00:00:00|3915089371|\n",
      "|2016-01-15 00:00:00|3787884056|\n",
      "|2017-12-15 00:00:00|3786992731|\n",
      "|2016-02-08 00:00:00|3759709109|\n",
      "|2016-03-18 00:00:00|3755746256|\n",
      "|2016-01-29 00:00:00|3740170664|\n",
      "|2014-03-21 00:00:00|3611991561|\n",
      "|2018-02-05 00:00:00|3598437288|\n",
      "|2013-03-15 00:00:00|3569550899|\n",
      "|2016-12-16 00:00:00|3564871264|\n",
      "|2016-02-11 00:00:00|3547898496|\n",
      "+-------------------+----------+\n",
      "only showing top 20 rows\n",
      "\n"
     ]
    }
   ],
   "source": [
    "#Qual o dia com maior volume total de negociação da bolsa?\n",
    "df_volumeByDay = df.groupBy(\"date\").agg(sum(\"volume\").alias(\"sum_volume\"))\n",
    "df_volumeByDay.sort(df_volumeByDay.sum_volume.desc()).show()"
   ]
  },
  {
   "cell_type": "code",
   "execution_count": 11,
   "metadata": {},
   "outputs": [
    {
     "name": "stdout",
     "output_type": "stream",
     "text": [
      "+----+------------+\n",
      "|Name|  sum_volume|\n",
      "+----+------------+\n",
      "| BAC|117884953591|\n",
      "+----+------------+\n",
      "only showing top 1 row\n",
      "\n"
     ]
    }
   ],
   "source": [
    "#Qual a ação mais negociada da bolsa, em volume de transações?\n",
    "df_volume = df.groupBy(\"Name\").agg(sum(\"volume\").alias(\"sum_volume\"))\n",
    "df_volume.sort(df_volume.sum_volume.desc()).show(1)"
   ]
  },
  {
   "cell_type": "code",
   "execution_count": 12,
   "metadata": {},
   "outputs": [
    {
     "data": {
      "text/plain": [
       "59"
      ]
     },
     "execution_count": 12,
     "metadata": {},
     "output_type": "execute_result"
    }
   ],
   "source": [
    "#Quantas ações começam com a letra “A”?\n",
    "distinctNames.filter(df.Name.startswith('A')).count()\n",
    "#distinctNames.filter(df.Name.startswith('A')).show()"
   ]
  },
  {
   "cell_type": "code",
   "execution_count": 13,
   "metadata": {},
   "outputs": [
    {
     "data": {
      "text/plain": [
       "1.1986301369863013"
      ]
     },
     "execution_count": 13,
     "metadata": {},
     "output_type": "execute_result"
    }
   ],
   "source": [
    "#Com qual frequência o preço mais alto do dia da ação também é o preço de fechamento?\n",
    "(df.filter(df.high == df.close).count() / df.count()) * 100"
   ]
  },
  {
   "cell_type": "code",
   "execution_count": 14,
   "metadata": {},
   "outputs": [
    {
     "name": "stdout",
     "output_type": "stream",
     "text": [
      "+-------------------+-------+-------+-------+-------+---------+----+------------------+\n",
      "|               date|   open|   high|    low|  close|   volume|Name|              diff|\n",
      "+-------------------+-------+-------+-------+-------+---------+----+------------------+\n",
      "|2015-08-24 00:00:00|  94.87|  108.8|   92.0| 103.12|162206292|AAPL|              8.25|\n",
      "|2018-02-06 00:00:00| 154.83| 163.72|  154.0| 163.03| 68243838|AAPL| 8.199999999999989|\n",
      "|2017-05-08 00:00:00| 149.03|  153.7| 149.03| 153.01| 48752413|AAPL|3.9799999999999898|\n",
      "|2014-12-09 00:00:00| 110.19|  114.3| 109.35| 114.12| 60208036|AAPL| 3.930000000000007|\n",
      "|2017-10-27 00:00:00| 159.29|  163.6|  158.7| 163.05| 44454160|AAPL|3.7600000000000193|\n",
      "|2015-12-04 00:00:00| 115.29| 119.25| 115.11| 119.03| 57776977|AAPL| 3.739999999999995|\n",
      "|2017-12-11 00:00:00|  169.2| 172.89| 168.79| 172.67| 35273759|AAPL| 3.469999999999999|\n",
      "|2016-11-16 00:00:00|  106.7| 110.23|  106.6| 109.99| 58840522|AAPL| 3.289999999999992|\n",
      "|2015-07-22 00:00:00| 121.99|  125.5| 121.99| 125.22|115450607|AAPL| 3.230000000000004|\n",
      "|2015-08-10 00:00:00| 116.53| 119.99| 116.53| 119.72| 54951597|AAPL|3.1899999999999977|\n",
      "|2014-04-28 00:00:00|81.8285|85.1071|81.7928|84.8699|167371680|AAPL| 3.041399999999996|\n",
      "|2016-09-14 00:00:00| 108.73| 113.03|  108.6| 111.77|112340318|AAPL| 3.039999999999992|\n",
      "|2014-09-10 00:00:00|  98.01| 101.11|  97.76|  101.0|100869587|AAPL| 2.989999999999995|\n",
      "|2015-02-23 00:00:00| 130.02|  133.0| 129.66|  133.0| 70974110|AAPL|2.9799999999999898|\n",
      "|2018-01-17 00:00:00| 176.15| 179.25| 175.07|  179.1| 34386836|AAPL|2.9499999999999886|\n",
      "|2017-03-28 00:00:00| 140.91| 144.04| 140.62|  143.8| 33374805|AAPL| 2.890000000000015|\n",
      "|2016-03-01 00:00:00|  97.65| 100.77|  97.42| 100.53| 50407147|AAPL|2.8799999999999955|\n",
      "|2015-04-06 00:00:00| 124.47| 127.51| 124.33| 127.35| 37193975|AAPL|2.8799999999999955|\n",
      "|2015-05-01 00:00:00|  126.1| 130.13|  125.3| 128.95| 58512638|AAPL|2.8499999999999943|\n",
      "|2017-10-30 00:00:00| 163.89| 168.07| 163.72| 166.72| 44700772|AAPL|2.8300000000000125|\n",
      "+-------------------+-------+-------+-------+-------+---------+----+------------------+\n",
      "only showing top 20 rows\n",
      "\n"
     ]
    }
   ],
   "source": [
    "#Em qual dia a ação da Apple mais subiu entre a abertura e o fechamento, de forma absoluta?\n",
    "diff_apple = apple.withColumn(\"diff\", apple.close - apple.open)\n",
    "diff_apple.sort(diff_apple.diff.desc()).show()"
   ]
  },
  {
   "cell_type": "code",
   "execution_count": 15,
   "metadata": {},
   "outputs": [
    {
     "name": "stdout",
     "output_type": "stream",
     "text": [
      "+-------------------+\n",
      "|        avg(volume)|\n",
      "+-------------------+\n",
      "|5.404789973550437E7|\n",
      "+-------------------+\n",
      "\n"
     ]
    }
   ],
   "source": [
    "#Em média, qual o volume diário de transações das ações da AAPL?\n",
    "apple.agg(avg(\"volume\")).show()"
   ]
  },
  {
   "cell_type": "code",
   "execution_count": 16,
   "metadata": {},
   "outputs": [
    {
     "name": "stdout",
     "output_type": "stream",
     "text": [
      "10\n",
      "50\n",
      "323\n",
      "117\n",
      "5\n"
     ]
    }
   ],
   "source": [
    "#Quantas ações tem 1, 2, 3, 4 e 5 caracteres em seu nome, respectivamente?\n",
    "print(distinctNames.where(length(\"Name\") == 1).count())\n",
    "print(distinctNames.where(length(\"Name\") == 2).count())\n",
    "print(distinctNames.where(length(\"Name\") == 3).count())\n",
    "print(distinctNames.where(length(\"Name\") == 4).count())\n",
    "print(distinctNames.where(length(\"Name\") == 5).count())"
   ]
  },
  {
   "cell_type": "code",
   "execution_count": 17,
   "metadata": {},
   "outputs": [
    {
     "name": "stdout",
     "output_type": "stream",
     "text": [
      "+----+----------+\n",
      "|Name|sum_volume|\n",
      "+----+----------+\n",
      "|APTV|  92947779|\n",
      "+----+----------+\n",
      "only showing top 1 row\n",
      "\n"
     ]
    }
   ],
   "source": [
    "#Qual a ação menos negociada da bolsa, em volume de transações?\n",
    "df_volumeByDay = df.groupBy(\"Name\").agg(sum(\"volume\").alias(\"sum_volume\"))\n",
    "df_volumeByDay.sort(df_volumeByDay.sum_volume.asc()).show(1)"
   ]
  },
  {
   "cell_type": "code",
   "execution_count": 18,
   "metadata": {},
   "outputs": [],
   "source": [
    "spark.stop()"
   ]
  }
 ],
 "metadata": {
  "kernelspec": {
   "display_name": "Python 3",
   "language": "python",
   "name": "python3"
  },
  "language_info": {
   "codemirror_mode": {
    "name": "ipython",
    "version": 3
   },
   "file_extension": ".py",
   "mimetype": "text/x-python",
   "name": "python",
   "nbconvert_exporter": "python",
   "pygments_lexer": "ipython3",
   "version": "3.10.3"
  },
  "orig_nbformat": 4,
  "vscode": {
   "interpreter": {
    "hash": "98590ff4fe04c8543246b2a01debd3de3c5ca9b666f43f1fa87d5110c692004c"
   }
  }
 },
 "nbformat": 4,
 "nbformat_minor": 2
}
