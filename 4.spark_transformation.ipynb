{
 "cells": [
  {
   "cell_type": "code",
   "execution_count": 2,
   "metadata": {},
   "outputs": [],
   "source": [
    "# import libraries\n",
    "from pyspark.sql import SparkSession\n",
    "from pyspark.sql.functions import avg"
   ]
  },
  {
   "cell_type": "code",
   "execution_count": 3,
   "metadata": {},
   "outputs": [
    {
     "name": "stdout",
     "output_type": "stream",
     "text": [
      "23/01/31 02:32:53 WARN Utils: Your hostname, Deboras-MacBook-Pro.local resolves to a loopback address: 127.0.0.1; using 192.168.68.104 instead (on interface en0)\n",
      "23/01/31 02:32:53 WARN Utils: Set SPARK_LOCAL_IP if you need to bind to another address\n"
     ]
    },
    {
     "name": "stderr",
     "output_type": "stream",
     "text": [
      "Setting default log level to \"WARN\".\n",
      "To adjust logging level use sc.setLogLevel(newLevel). For SparkR, use setLogLevel(newLevel).\n"
     ]
    },
    {
     "name": "stdout",
     "output_type": "stream",
     "text": [
      "23/01/31 02:32:53 WARN NativeCodeLoader: Unable to load native-hadoop library for your platform... using builtin-java classes where applicable\n",
      "23/01/31 02:32:54 WARN Utils: Service 'SparkUI' could not bind on port 4040. Attempting port 4041.\n"
     ]
    }
   ],
   "source": [
    "# Estabilish connection and load data into memory\n",
    "\n",
    "spark = (SparkSession.builder\n",
    "        .appName(\"Map\")\n",
    "        .getOrCreate())\n",
    "\n",
    "# Get data\n",
    "data = spark.sparkContext.textFile(\"/opt/homebrew/Cellar/apache-spark/3.3.1/README.md\")"
   ]
  },
  {
   "attachments": {},
   "cell_type": "markdown",
   "metadata": {},
   "source": [
    "## Transformation"
   ]
  },
  {
   "attachments": {},
   "cell_type": "markdown",
   "metadata": {},
   "source": [
    "### map()"
   ]
  },
  {
   "cell_type": "code",
   "execution_count": 4,
   "metadata": {},
   "outputs": [
    {
     "name": "stderr",
     "output_type": "stream",
     "text": [
      "('# Apache Spark', 14)\n",
      "('', 0)\n",
      "('Spark is a unified analytics engine for large-scale data processing. It provides', 80)\n",
      "('high-level APIs in Scala, Java, Python, and R, and an optimized engine that', 75)\n",
      "('supports general computation graphs for data analysis. It also supports a', 73)\n",
      "('rich set of higher-level tools including Spark SQL for SQL and DataFrames,', 74)\n",
      "('pandas API on Spark for pandas workloads, MLlib for machine learning, GraphX for graph processing,', 98)\n",
      "('and Structured Streaming for stream processing.', 47)\n",
      "('', 0)\n",
      "('<https://spark.apache.org/>', 27)\n",
      "('', 0)\n",
      "('', 0)\n",
      "('[![GitHub Action Build](https://github.com/apache/spark/actions/workflows/build_and_test.yml/badge.svg?branch=master&event=push)](https://github.com/apache/spark/actions/workflows/build_and_test.yml?query=branch%3Amaster+event%3Apush)', 234)\n",
      "('```python', 9)\n",
      "('>>> spark.range(1000 * 1000 * 1000).count()', 43)\n",
      "('[![AppVeyor Build](https://img.shields.io/appveyor/ci/ApacheSoftwareFoundation/spark/master.svg?style=plastic&logo=appveyor)](https://ci.appveyor.com/project/ApacheSoftwareFoundation/spark)', 189)('```', 3)\n",
      "('', 0)\n",
      "('## Example Programs', 19)\n",
      "('', 0)\n",
      "('Spark also comes with several sample programs in the `examples` directory.', 74)\n",
      "('To run one of them, use `./bin/run-example <class> [params]`. For example:', 74)\n",
      "('', 0)\n",
      "('```bash', 7)\n",
      "('./bin/run-example SparkPi', 25)\n",
      "('```', 3)\n",
      "('', 0)\n",
      "('will run the Pi example locally.', 32)\n",
      "('', 0)\n",
      "\n",
      "('You can set the MASTER environment variable when running examples to submit', 75)\n",
      "('examples to a cluster. This can be a mesos:// or spark:// URL,', 62)\n",
      "('\"yarn\" to run on YARN, and \"local\" to run', 41)\n",
      "('locally with one thread, or \"local[N]\" to run locally with N threads. You', 73)\n",
      "('can also use an abbreviated class name if the class is in the `examples`', 72)\n",
      "('package. For instance:', 22)\n",
      "('[![PySpark Coverage](https://codecov.io/gh/apache/spark/branch/master/graph/badge.svg)](https://codecov.io/gh/apache/spark)', 123)\n",
      "('', 0)\n",
      "('', 0)\n",
      "('## Online Documentation', 23)('', 0)\n",
      "\n",
      "('```bash', 7)('', 0)\n",
      "\n",
      "('MASTER=spark://host:7077 ./bin/run-example SparkPi', 50)\n",
      "('You can find the latest Spark documentation, including a programming', 68)\n",
      "('```', 3)\n",
      "('guide, on the [project web page](https://spark.apache.org/documentation.html).', 78)\n",
      "('', 0)\n",
      "('This README file only contains basic setup instructions.', 56)\n",
      "('Many of the example programs print usage help if no params are given.', 69)('', 0)\n",
      "('## Building Spark', 17)\n",
      "('', 0)\n",
      "('Spark is built using [Apache Maven](https://maven.apache.org/).', 63)\n",
      "('To build Spark and its example programs, run:', 45)\n",
      "('', 0)\n",
      "('```bash', 7)\n",
      "\n",
      "('./build/mvn -DskipTests clean package', 37)\n",
      "('```', 3)\n",
      "('', 0)('', 0)\n",
      "('## Running Tests', 16)\n",
      "\n",
      "('', 0)\n",
      "('Testing first requires [building Spark](#building-spark). Once Spark is built, tests', 84)\n",
      "('can be run using:', 17)\n",
      "('', 0)('(You do not need to do this if you downloaded a pre-built package.)', 67)\n",
      "('', 0)\n",
      "\n",
      "('More detailed documentation is available from the project site, at', 66)\n",
      "('```bash', 7)('[\"Building Spark\"](https://spark.apache.org/docs/latest/building-spark.html).', 77)\n",
      "\n",
      "('', 0)('./dev/run-tests', 15)\n",
      "\n",
      "('```', 3)('For general development tips, including info on developing Spark using an IDE, see [\"Useful Developer Tools\"](https://spark.apache.org/developer-tools.html).', 157)\n",
      "('', 0)\n",
      "('## Interactive Scala Shell', 26)\n",
      "\n",
      "('', 0)\n",
      "('The easiest way to start using Spark is through the Scala shell:', 64)('', 0)\n",
      "('Please see the guidance on how to', 33)\n",
      "\n",
      "('[run tests for a module, or individual tests](https://spark.apache.org/developer-tools.html#individual-tests).', 110)\n",
      "('', 0)\n",
      "('', 0)('There is also a Kubernetes integration test, see resource-managers/kubernetes/integration-tests/README.md', 105)\n",
      "\n",
      "('```bash', 7)\n",
      "('./bin/spark-shell', 17)('', 0)\n",
      "\n",
      "('```', 3)\n",
      "('', 0)\n",
      "('Try the following command, which should return 1,000,000,000:', 61)\n",
      "('', 0)\n",
      "('```scala', 8)\n",
      "('scala> spark.range(1000 * 1000 * 1000).count()', 46)\n",
      "('```', 3)\n",
      "('', 0)\n",
      "('## Interactive Python Shell', 27)\n",
      "('', 0)\n",
      "('## A Note About Hadoop Versions', 31)('Alternatively, if you prefer Python, you can use the Python shell:', 66)\n",
      "('', 0)\n",
      "\n",
      "('Spark uses the Hadoop core library to talk to HDFS and other Hadoop-supported', 77)\n",
      "('', 0)\n",
      "('storage systems. Because the protocols have changed in different versions of', 76)('```bash', 7)\n",
      "\n",
      "('Hadoop, you must build Spark against the same version that your cluster runs.', 77)\n",
      "('', 0)\n",
      "('Please refer to the build documentation at', 42)('./bin/pyspark', 13)\n",
      "('```', 3)\n",
      "('', 0)\n",
      "('And run the following command, which should also return 1,000,000,000:', 70)\n",
      "\n",
      "('[\"Specifying the Hadoop Version and Enabling YARN\"](https://spark.apache.org/docs/latest/building-spark.html#specifying-the-hadoop-version-and-enabling-yarn)', 157)\n",
      "('for detailed guidance on building for a particular distribution of Hadoop, including', 84)\n",
      "('building for particular Hive and Hive Thriftserver distributions.', 65)\n",
      "('', 0)\n",
      "('## Configuration', 16)\n",
      "('', 0)\n",
      "('Please refer to the [Configuration Guide](https://spark.apache.org/docs/latest/configuration.html)', 98)\n",
      "('in the online documentation for an overview on how to configure Spark.', 70)\n",
      "('', 0)\n",
      "('## Contributing', 15)\n",
      "('', 0)\n",
      "('Please review the [Contribution to Spark guide](https://spark.apache.org/contributing.html)', 91)\n",
      "('for information on how to get started contributing to the project.', 66)\n"
     ]
    }
   ],
   "source": [
    "# Use map()\n",
    "#For every line in the doc, create a tuple containing its content and lenght (content, lenght)\n",
    "mapFile = data.map(lambda line : (line, len(line)))\n",
    "\n",
    "# Print tuples\n",
    "# foreach() is a action that starts the execution\n",
    "mapFile.foreach(print)"
   ]
  },
  {
   "attachments": {},
   "cell_type": "markdown",
   "metadata": {},
   "source": [
    "### flatMap()"
   ]
  },
  {
   "cell_type": "code",
   "execution_count": 5,
   "metadata": {},
   "outputs": [
    {
     "name": "stderr",
     "output_type": "stream",
     "text": [
      "#\n",
      "Apache\n",
      "Spark\n",
      "Spark\n",
      "is\n",
      "a\n",
      "unified\n",
      "analytics\n",
      "engine\n",
      "for\n",
      "large-scale\n",
      "data\n",
      "processing.\n",
      "It\n",
      "provides\n",
      "high-level\n",
      "APIs\n",
      "in\n",
      "Scala,\n",
      "Java,\n",
      "Python,\n",
      "and\n",
      "R,\n",
      "and\n",
      "an\n",
      "optimized\n",
      "engine\n",
      "that\n",
      "supports\n",
      "general\n",
      "computation\n",
      "graphs\n",
      "for\n",
      "data\n",
      "analysis.\n",
      "It\n",
      "also\n",
      "supports\n",
      "a\n",
      "rich\n",
      "set\n",
      "of\n",
      "higher-level\n",
      "tools\n",
      "including\n",
      "Spark\n",
      "SQL\n",
      "for\n",
      "SQL\n",
      "and\n",
      "DataFrames,\n",
      "pandas\n",
      "API\n",
      "on\n",
      "Spark\n",
      "for\n",
      "pandas\n",
      "workloads,\n",
      "MLlib\n",
      "for\n",
      "machine\n",
      "learning,\n",
      "GraphX\n",
      "for\n",
      "graph\n",
      "processing,\n",
      "and\n",
      "Structured\n",
      "Streaming\n",
      "for\n",
      "stream\n",
      "processing.\n",
      "<https://spark.apache.org/>\n",
      "[![GitHub\n",
      "Action\n",
      "Build](https://github.com/apache/spark/actions/workflows/build_and_test.yml/badge.svg?branch=master&event=push)](https://github.com/apache/spark/actions/workflows/build_and_test.yml?query=branch%3Amaster+event%3Apush)\n",
      "[![AppVeyor\n",
      "Build](https://img.shields.io/appveyor/ci/ApacheSoftwareFoundation/spark/master.svg?style=plastic&logo=appveyor)](https://ci.appveyor.com/project/ApacheSoftwareFoundation/spark)\n",
      "[![PySpark\n",
      "Coverage](https://codecov.io/gh/apache/spark/branch/master/graph/badge.svg)](https://codecov.io/gh/apache/spark)\n",
      "##\n",
      "Online\n",
      "Documentation\n",
      "You\n",
      "can\n",
      "find\n",
      "the\n",
      "latest\n",
      "Spark\n",
      "documentation,\n",
      "including\n",
      "a\n",
      "programming\n",
      "guide,\n",
      "on\n",
      "the\n",
      "[project\n",
      "web\n",
      "page](https://spark.apache.org/documentation.html).\n",
      "This\n",
      "README\n",
      "file\n",
      "only\n",
      "contains\n",
      "basic\n",
      "setup\n",
      "instructions.\n",
      "##\n",
      "Building\n",
      "Spark\n",
      "Spark\n",
      "is\n",
      "built\n",
      "using\n",
      "[Apache\n",
      "Maven](https://maven.apache.org/).\n",
      "To\n",
      "build\n",
      "Spark\n",
      "and\n",
      "its\n",
      "example\n",
      "programs,\n",
      "run:\n",
      "```bash\n",
      "./build/mvn\n",
      "-DskipTests\n",
      "clean\n",
      "package\n",
      "```\n",
      "(You\n",
      "do\n",
      "not\n",
      "need\n",
      "to\n",
      "do\n",
      "```pythonthis\n",
      "\n",
      "if\n",
      "you\n",
      ">>>downloaded\n",
      "\n",
      "spark.range(1000a\n",
      "\n",
      "*pre-built\n",
      "\n",
      "1000package.)\n",
      "\n",
      "*\n",
      "1000).count()\n",
      "More\n",
      "```detailed\n",
      "\n",
      "documentation\n",
      "is##\n",
      "available\n",
      "from\n",
      "the\n",
      "project\n",
      "site,\n",
      "\n",
      "at\n",
      "Example\n",
      "[\"Building\n",
      "ProgramsSpark\"](https://spark.apache.org/docs/latest/building-spark.html).\n",
      "\n",
      "For\n",
      "general\n",
      "development\n",
      "tips,\n",
      "including\n",
      "Sparkinfo\n",
      "also\n",
      "\n",
      "comes\n",
      "with\n",
      "several\n",
      "sample\n",
      "programs\n",
      "in\n",
      "onthe\n",
      "\n",
      "`examples`developing\n",
      "\n",
      "directory.Spark\n",
      "\n",
      "using\n",
      "an\n",
      "IDE,\n",
      "see\n",
      "To[\"Useful\n",
      "\n",
      "runDeveloper\n",
      "one\n",
      "of\n",
      "them,\n",
      "use\n",
      "`./bin/run-example\n",
      "<class>\n",
      "[params]`.\n",
      "For\n",
      "example:\n",
      "\n",
      "```bash\n",
      "./bin/run-example\n",
      "SparkPi\n",
      "```\n",
      "will\n",
      "run\n",
      "the\n",
      "Pi\n",
      "example\n",
      "locally.\n",
      "Tools\"](https://spark.apache.org/developer-tools.html).\n",
      "You\n",
      "can\n",
      "set\n",
      "the\n",
      "MASTER\n",
      "environment##\n",
      "\n",
      "variable\n",
      "whenInteractive\n",
      "Scala\n",
      "\n",
      "runningShell\n",
      "\n",
      "The\n",
      "easiestexamples\n",
      "way\n",
      "to\n",
      "\n",
      "start\n",
      "usingto\n",
      "submit\n",
      "examples\n",
      "to\n",
      "a\n",
      "cluster.\n",
      "This\n",
      "can\n",
      "be\n",
      "a\n",
      "mesos://\n",
      "or\n",
      "spark://\n",
      "URL,\n",
      "\n",
      "Spark\n",
      "\"yarn\"is\n",
      "to\n",
      "run\n",
      "on\n",
      "YARN,\n",
      "and\n",
      "\"local\"\n",
      "to\n",
      "run\n",
      "\n",
      "through\n",
      "thelocally\n",
      "\n",
      "Scalawith\n",
      "shell:\n",
      "```bash\n",
      "\n",
      "./bin/spark-shell\n",
      "one\n",
      "```\n",
      "Try\n",
      "the\n",
      "following\n",
      "command,\n",
      "whichthread,\n",
      "should\n",
      "or\n",
      "\"local[N]\"\n",
      "to\n",
      "run\n",
      "locally\n",
      "with\n",
      "N\n",
      "threads.\n",
      "You\n",
      "can\n",
      "also\n",
      "use\n",
      "an\n",
      "abbreviated\n",
      "class\n",
      "name\n",
      "if\n",
      "the\n",
      "class\n",
      "is\n",
      "\n",
      "in\n",
      "the\n",
      "`examples`return\n",
      "\n",
      "1,000,000,000:\n",
      "package.\n",
      "For\n",
      "instance:\n",
      "```scala\n",
      "```bashscala>\n",
      "spark.range(1000\n",
      "*\n",
      "1000\n",
      "*\n",
      "MASTER=spark://host:7077\n",
      "\n",
      "./bin/run-example1000).count()\n",
      "SparkPi\n",
      "\n",
      "```\n",
      "```\n",
      "Many\n",
      "##of\n",
      "the\n",
      "example\n",
      "programs\n",
      "print\n",
      "usage\n",
      "help\n",
      "if\n",
      "no\n",
      "\n",
      "params\n",
      "are\n",
      "given.\n",
      "##\n",
      "Running\n",
      "Tests\n",
      "InteractiveTesting\n",
      "\n",
      "first\n",
      "Pythonrequires\n",
      "\n",
      "[building\n",
      "Shell\n",
      "Alternatively,\n",
      "if\n",
      "you\n",
      "Spark](#building-spark).prefer\n",
      "Python,\n",
      "you\n",
      "can\n",
      "use\n",
      "the\n",
      "Python\n",
      "shell:\n",
      "\n",
      "```bash\n",
      "./bin/pyspark\n",
      "```\n",
      "And\n",
      "run\n",
      "theOnce\n",
      "following\n",
      "\n",
      "command,\n",
      "whichSpark\n",
      "should\n",
      "also\n",
      "return\n",
      "1,000,000,000:\n",
      "\n",
      "is\n",
      "built,\n",
      "tests\n",
      "can\n",
      "be\n",
      "run\n",
      "using:\n",
      "```bash\n",
      "./dev/run-tests\n",
      "```\n",
      "Please\n",
      "see\n",
      "the\n",
      "guidance\n",
      "on\n",
      "how\n",
      "to\n",
      "[run\n",
      "tests\n",
      "for\n",
      "a\n",
      "module,\n",
      "or\n",
      "individual\n",
      "tests](https://spark.apache.org/developer-tools.html#individual-tests).\n",
      "There\n",
      "is\n",
      "also\n",
      "a\n",
      "Kubernetes\n",
      "integration\n",
      "test,\n",
      "see\n",
      "resource-managers/kubernetes/integration-tests/README.md\n",
      "##\n",
      "A\n",
      "Note\n",
      "About\n",
      "Hadoop\n",
      "Versions\n",
      "Spark\n",
      "uses\n",
      "the\n",
      "Hadoop\n",
      "core\n",
      "library\n",
      "to\n",
      "talk\n",
      "to\n",
      "HDFS\n",
      "and\n",
      "other\n",
      "Hadoop-supported\n",
      "storage\n",
      "systems.\n",
      "Because\n",
      "the\n",
      "protocols\n",
      "have\n",
      "changed\n",
      "in\n",
      "different\n",
      "versions\n",
      "of\n",
      "Hadoop,\n",
      "you\n",
      "must\n",
      "build\n",
      "Spark\n",
      "against\n",
      "the\n",
      "same\n",
      "version\n",
      "that\n",
      "your\n",
      "cluster\n",
      "runs.\n",
      "Please\n",
      "refer\n",
      "to\n",
      "the\n",
      "build\n",
      "documentation\n",
      "at\n",
      "[\"Specifying\n",
      "the\n",
      "Hadoop\n",
      "Version\n",
      "and\n",
      "Enabling\n",
      "YARN\"](https://spark.apache.org/docs/latest/building-spark.html#specifying-the-hadoop-version-and-enabling-yarn)\n",
      "for\n",
      "detailed\n",
      "guidance\n",
      "on\n",
      "building\n",
      "for\n",
      "a\n",
      "particular\n",
      "distribution\n",
      "of\n",
      "Hadoop,\n",
      "including\n",
      "building\n",
      "for\n",
      "particular\n",
      "Hive\n",
      "and\n",
      "Hive\n",
      "Thriftserver\n",
      "distributions.\n",
      "##\n",
      "Configuration\n",
      "Please\n",
      "refer\n",
      "to\n",
      "the\n",
      "[Configuration\n",
      "Guide](https://spark.apache.org/docs/latest/configuration.html)\n",
      "in\n",
      "the\n",
      "online\n",
      "documentation\n",
      "for\n",
      "an\n",
      "overview\n",
      "on\n",
      "how\n",
      "to\n",
      "configure\n",
      "Spark.\n",
      "##\n",
      "Contributing\n",
      "Please\n",
      "review\n",
      "the\n",
      "[Contribution\n",
      "to\n",
      "Spark\n",
      "guide](https://spark.apache.org/contributing.html)\n",
      "for\n",
      "information\n",
      "on\n",
      "how\n",
      "to\n",
      "get\n",
      "started\n",
      "contributing\n",
      "to\n",
      "the\n",
      "project.\n"
     ]
    }
   ],
   "source": [
    "# Use flatMap()\n",
    "# Split line into words\n",
    "flatFile = data.flatMap(lambda line : line.split())\n",
    "\n",
    "# Print words\n",
    "flatFile.foreach(print)"
   ]
  },
  {
   "attachments": {},
   "cell_type": "markdown",
   "metadata": {},
   "source": [
    "### filter(func)"
   ]
  },
  {
   "cell_type": "code",
   "execution_count": 6,
   "metadata": {},
   "outputs": [
    {
     "name": "stderr",
     "output_type": "stream",
     "text": [
      "a\n",
      "analytics\n",
      "and\n",
      "and\n",
      "an\n",
      "analysis.\n",
      "also\n",
      "a\n",
      "and\n",
      "and\n",
      "a\n",
      "and\n",
      "a\n",
      "available\n",
      "at\n",
      "an\n",
      "also\n",
      "also\n",
      "a\n",
      "a\n",
      "and\n",
      "also\n",
      "an\n",
      "abbreviated\n",
      "are\n",
      "a\n",
      "also\n",
      "a\n",
      "and\n",
      "against\n",
      "at\n",
      "and\n",
      "a\n",
      "and\n",
      "an\n"
     ]
    }
   ],
   "source": [
    "# Use filter()\n",
    "# Only words starts with \"a\"\n",
    "filterFile = flatFile.filter(lambda word : word.startswith(\"a\"))\n",
    "\n",
    "# Print words\n",
    "filterFile.foreach(print)"
   ]
  },
  {
   "attachments": {},
   "cell_type": "markdown",
   "metadata": {},
   "source": [
    "### reduceByKey(func)"
   ]
  },
  {
   "cell_type": "code",
   "execution_count": 7,
   "metadata": {},
   "outputs": [
    {
     "name": "stderr",
     "output_type": "stream",
     "text": [
      "('três', 1)\n",
      "('dois', 2)\n",
      "('um', 2)\n"
     ]
    }
   ],
   "source": [
    "list = [\"um\", \"um\", \"dois\", \"dois\", \"três\"]\n",
    "\n",
    "rdd = spark.sparkContext.parallelize(list) #transform list in RDD\n",
    "\n",
    "# map list into tuple and use reduceByKey to count frequency of every word\n",
    "rdd2 = rdd.map(lambda x: (x, 1)).reduceByKey(lambda a,b : a+b)\n",
    "\n",
    "rdd2.foreach(print)"
   ]
  },
  {
   "attachments": {},
   "cell_type": "markdown",
   "metadata": {},
   "source": [
    "### sortByKey(func)"
   ]
  },
  {
   "cell_type": "code",
   "execution_count": 8,
   "metadata": {},
   "outputs": [
    {
     "name": "stderr",
     "output_type": "stream",
     "text": [
      "('um', 2)\n",
      "('dois', 2)\n",
      "('três', 1)\n"
     ]
    }
   ],
   "source": [
    "# map list into tuple, use reduceByKey to count frequency of every word and sort by key\n",
    "rdd2 = rdd.map(lambda x: (x, 1)).reduceByKey(lambda a,b : a+b).sortByKey(\"asc\")\n",
    "\n",
    "rdd2.foreach(print)"
   ]
  },
  {
   "attachments": {},
   "cell_type": "markdown",
   "metadata": {},
   "source": [
    "### union(rdd)"
   ]
  },
  {
   "cell_type": "code",
   "execution_count": 9,
   "metadata": {},
   "outputs": [
    {
     "name": "stderr",
     "output_type": "stream",
     "text": [
      "dois\n",
      "três\n",
      "um\n",
      "um\n",
      "dois\n",
      "um\n",
      "quatro\n",
      "cinco\n"
     ]
    }
   ],
   "source": [
    "list2 = [\"um\", \"quatro\", \"cinco\"]\n",
    "\n",
    "rdd2 = spark.sparkContext.parallelize(list2)\n",
    "\n",
    "rddUnion = rdd.union(rdd2)\n",
    "\n",
    "rddUnion.foreach(print)"
   ]
  },
  {
   "attachments": {},
   "cell_type": "markdown",
   "metadata": {},
   "source": [
    "### intersection(rdd)"
   ]
  },
  {
   "cell_type": "code",
   "execution_count": 10,
   "metadata": {},
   "outputs": [
    {
     "name": "stderr",
     "output_type": "stream",
     "text": [
      "um\n"
     ]
    }
   ],
   "source": [
    "rddIntersection = rdd.intersection(rdd2)\n",
    "rddIntersection.foreach(print)"
   ]
  },
  {
   "attachments": {},
   "cell_type": "markdown",
   "metadata": {},
   "source": [
    "### distinct(rdd)"
   ]
  },
  {
   "cell_type": "code",
   "execution_count": 11,
   "metadata": {},
   "outputs": [
    {
     "name": "stderr",
     "output_type": "stream",
     "text": [
      "dois\n",
      "um\n",
      "três\n"
     ]
    }
   ],
   "source": [
    "rddDistinct = rdd.distinct()\n",
    "rddDistinct.foreach(print)"
   ]
  },
  {
   "attachments": {},
   "cell_type": "markdown",
   "metadata": {},
   "source": [
    "### join(rdd)"
   ]
  },
  {
   "cell_type": "code",
   "execution_count": 12,
   "metadata": {},
   "outputs": [
    {
     "name": "stderr",
     "output_type": "stream",
     "text": [
      "('Maria', (42, 'DF'))\n",
      "('Pedro', (38, 'BH'))\n"
     ]
    }
   ],
   "source": [
    "list = [(\"Pedro\", 38), (\"Maria\", 42), (\"João\", 12)]\n",
    "list2 = [(\"Pedro\", \"BH\"), (\"Maria\", \"DF\")]\n",
    "\n",
    "rdd = spark.sparkContext.parallelize(list)\n",
    "rdd2 = spark.sparkContext.parallelize(list2)\n",
    "\n",
    "rddJoin = rdd.join(rdd2)\n",
    "\n",
    "rddJoin.foreach(print)"
   ]
  },
  {
   "attachments": {},
   "cell_type": "markdown",
   "metadata": {},
   "source": [
    "## Action"
   ]
  },
  {
   "attachments": {},
   "cell_type": "markdown",
   "metadata": {},
   "source": [
    "### foreach(func)"
   ]
  },
  {
   "cell_type": "code",
   "execution_count": 13,
   "metadata": {},
   "outputs": [],
   "source": [
    "list = [(\"Pedro\", 38), (\"Maria\", 42), (\"João\", 12)]\n",
    "list2 = [(\"Pedro\", \"BH\"), (\"Maria\", \"DF\")]\n",
    "\n",
    "rdd = spark.sparkContext.parallelize(list)\n",
    "rdd2 = spark.sparkContext.parallelize(list2)\n",
    "\n",
    "rddJoin = rdd.join(rdd2)\n",
    "#rddJoin.foreach(print)"
   ]
  },
  {
   "attachments": {},
   "cell_type": "markdown",
   "metadata": {},
   "source": [
    "### collect()"
   ]
  },
  {
   "cell_type": "code",
   "execution_count": 14,
   "metadata": {},
   "outputs": [
    {
     "name": "stdout",
     "output_type": "stream",
     "text": [
      "[('Maria', (42, 'DF')), ('Pedro', (38, 'BH'))]\n"
     ]
    }
   ],
   "source": [
    "print(rddJoin.collect())"
   ]
  },
  {
   "attachments": {},
   "cell_type": "markdown",
   "metadata": {},
   "source": [
    "### count()"
   ]
  },
  {
   "cell_type": "code",
   "execution_count": 15,
   "metadata": {},
   "outputs": [
    {
     "name": "stdout",
     "output_type": "stream",
     "text": [
      "2\n"
     ]
    }
   ],
   "source": [
    "print(rddJoin.count())"
   ]
  },
  {
   "attachments": {},
   "cell_type": "markdown",
   "metadata": {},
   "source": [
    "### take(n)"
   ]
  },
  {
   "cell_type": "code",
   "execution_count": 16,
   "metadata": {},
   "outputs": [
    {
     "data": {
      "text/plain": [
       "['um', 'um', 'dois', 'dois']"
      ]
     },
     "execution_count": 16,
     "metadata": {},
     "output_type": "execute_result"
    }
   ],
   "source": [
    "# rddUnion.foreach(print)\n",
    "rddUnion.take(4)"
   ]
  },
  {
   "attachments": {},
   "cell_type": "markdown",
   "metadata": {},
   "source": [
    "### top(k)"
   ]
  },
  {
   "cell_type": "code",
   "execution_count": 17,
   "metadata": {},
   "outputs": [
    {
     "data": {
      "text/plain": [
       "['um', 'um', 'um', 'três']"
      ]
     },
     "execution_count": 17,
     "metadata": {},
     "output_type": "execute_result"
    }
   ],
   "source": [
    "# rddUnion.foreach(print)\n",
    "rddUnion.top(4)"
   ]
  },
  {
   "attachments": {},
   "cell_type": "markdown",
   "metadata": {},
   "source": [
    "### countByValue()"
   ]
  },
  {
   "cell_type": "code",
   "execution_count": 18,
   "metadata": {},
   "outputs": [
    {
     "data": {
      "text/plain": [
       "defaultdict(int, {'um': 3, 'dois': 2, 'três': 1, 'quatro': 1, 'cinco': 1})"
      ]
     },
     "execution_count": 18,
     "metadata": {},
     "output_type": "execute_result"
    }
   ],
   "source": [
    "rddUnion.countByValue()"
   ]
  },
  {
   "attachments": {},
   "cell_type": "markdown",
   "metadata": {},
   "source": [
    "### reduce(func)"
   ]
  },
  {
   "cell_type": "code",
   "execution_count": 19,
   "metadata": {},
   "outputs": [
    {
     "data": {
      "text/plain": [
       "'um um dois dois três um quatro cinco'"
      ]
     },
     "execution_count": 19,
     "metadata": {},
     "output_type": "execute_result"
    }
   ],
   "source": [
    "rddUnion.reduce(lambda a,b : a + ' ' + b)"
   ]
  },
  {
   "cell_type": "code",
   "execution_count": 20,
   "metadata": {},
   "outputs": [
    {
     "data": {
      "text/plain": [
       "UnionRDD[23] at union at NativeMethodAccessorImpl.java:0"
      ]
     },
     "execution_count": 20,
     "metadata": {},
     "output_type": "execute_result"
    }
   ],
   "source": [
    "rddUnion"
   ]
  },
  {
   "attachments": {},
   "cell_type": "markdown",
   "metadata": {},
   "source": [
    "### saveAsTextFile(path)"
   ]
  },
  {
   "cell_type": "code",
   "execution_count": 21,
   "metadata": {},
   "outputs": [],
   "source": [
    "rddUnion.saveAsTextFile('./MeuRDD')"
   ]
  }
 ],
 "metadata": {
  "kernelspec": {
   "display_name": "Python 3",
   "language": "python",
   "name": "python3"
  },
  "language_info": {
   "codemirror_mode": {
    "name": "ipython",
    "version": 3
   },
   "file_extension": ".py",
   "mimetype": "text/x-python",
   "name": "python",
   "nbconvert_exporter": "python",
   "pygments_lexer": "ipython3",
   "version": "3.10.3"
  },
  "orig_nbformat": 4,
  "vscode": {
   "interpreter": {
    "hash": "98590ff4fe04c8543246b2a01debd3de3c5ca9b666f43f1fa87d5110c692004c"
   }
  }
 },
 "nbformat": 4,
 "nbformat_minor": 2
}
