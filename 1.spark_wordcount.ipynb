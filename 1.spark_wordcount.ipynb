{
 "cells": [
  {
   "cell_type": "code",
   "execution_count": 3,
   "metadata": {},
   "outputs": [],
   "source": [
    "import sys\n",
    "from operator import add\n",
    "from pyspark.sql import SparkSession"
   ]
  },
  {
   "cell_type": "code",
   "execution_count": 4,
   "metadata": {},
   "outputs": [
    {
     "name": "stderr",
     "output_type": "stream",
     "text": [
      "                                                                                \r"
     ]
    },
    {
     "name": "stdout",
     "output_type": "stream",
     "text": [
      "{ : 10\n",
      " : 314\n",
      "\"cells\": : 1\n",
      "[ : 3\n",
      "\"cell_type\": : 3\n",
      "\"code\", : 3\n",
      "\"execution_count\": : 3\n",
      "3, : 1\n",
      "\"metadata\": : 4\n",
      "{}, : 3\n",
      "\"outputs\": : 3\n",
      "[], : 3\n",
      "\"source\": : 3\n",
      "\"import : 1\n",
      "sys\\n\", : 1\n",
      "\"from : 2\n",
      "operator : 1\n",
      "import : 2\n",
      "add\\n\", : 1\n",
      "pyspark.sql : 1\n",
      "SparkSession\" : 1\n",
      "] : 2\n",
      "}, : 6\n",
      "4, : 3\n",
      "\"if : 1\n",
      "__name__ : 1\n",
      "== : 1\n",
      "\\\"__main__\\\":\\n\", : 1\n",
      "\" : 16\n",
      "\\n\", : 4\n",
      "spark : 1\n",
      "= : 4\n",
      "SparkSession : 1\n",
      "\\\\\\n\", : 5\n",
      ".builder : 1\n",
      ".appName(\\\"PythonWordCount\\\") : 1\n",
      ".getOrCreate()\\n\", : 1\n",
      "lines : 1\n",
      "spark.read.text(\\\"./1.spark_wordcount.ipynb\\\").rdd.map(lambda : 1\n",
      "r: : 1\n",
      "r[0])\\n\", : 1\n",
      "counts : 1\n",
      "lines.flatMap(lambda : 1\n",
      "x: : 2\n",
      "x.split(' : 1\n",
      "')) : 1\n",
      ".map(lambda : 1\n",
      "(x,1)) : 1\n",
      ".reduceByKey(add)\\n\", : 1\n",
      "\"\\n\", : 1\n",
      "output : 1\n",
      "counts.collect()\\n\", : 1\n",
      "for : 1\n",
      "word, : 1\n",
      "count : 1\n",
      "in : 1\n",
      "output:\\n\", : 1\n",
      "print(\\\"%s : 1\n",
      ": : 1\n",
      "%i\\\" : 1\n",
      "% : 1\n",
      "(word, : 1\n",
      "count))\\n\", : 1\n",
      "spark.stop()\\n\" : 1\n",
      "null, : 1\n",
      "[] : 1\n",
      "} : 4\n",
      "], : 1\n",
      "\"kernelspec\": : 1\n",
      "\"display_name\": : 1\n",
      "\"Python : 1\n",
      "3\", : 1\n",
      "\"language\": : 1\n",
      "\"python\", : 3\n",
      "\"name\": : 3\n",
      "\"python3\" : 1\n",
      "\"language_info\": : 1\n",
      "\"codemirror_mode\": : 1\n",
      "\"ipython\", : 1\n",
      "\"version\": : 2\n",
      "3 : 1\n",
      "\"file_extension\": : 1\n",
      "\".py\", : 1\n",
      "\"mimetype\": : 1\n",
      "\"text/x-python\", : 1\n",
      "\"nbconvert_exporter\": : 1\n",
      "\"pygments_lexer\": : 1\n",
      "\"ipython3\", : 1\n",
      "\"3.10.3\" : 1\n",
      "\"orig_nbformat\": : 1\n",
      "\"vscode\": : 1\n",
      "\"interpreter\": : 1\n",
      "\"hash\": : 1\n",
      "\"98590ff4fe04c8543246b2a01debd3de3c5ca9b666f43f1fa87d5110c692004c\" : 1\n",
      "\"nbformat\": : 1\n",
      "\"nbformat_minor\": : 1\n",
      "2 : 1\n"
     ]
    }
   ],
   "source": [
    "if __name__ == \"__main__\":\n",
    "    \n",
    "    spark = SparkSession \\\n",
    "        .builder \\\n",
    "        .appName(\"PythonWordCount\") \\\n",
    "        .getOrCreate()\n",
    "    \n",
    "    lines = spark.read.text(\"./1.spark_wordcount.ipynb\").rdd.map(lambda r: r[0])\n",
    "    counts = lines.flatMap(lambda x: x.split(' ')) \\\n",
    "                    .map(lambda x: (x,1)) \\\n",
    "                    .reduceByKey(add)\n",
    "    \n",
    "\n",
    "    output = counts.collect()\n",
    "    for word, count in output:\n",
    "        print(\"%s : %i\" % (word, count))\n",
    "    \n",
    "    spark.stop()\n"
   ]
  },
  {
   "cell_type": "code",
   "execution_count": null,
   "metadata": {},
   "outputs": [],
   "source": []
  }
 ],
 "metadata": {
  "kernelspec": {
   "display_name": "Python 3",
   "language": "python",
   "name": "python3"
  },
  "language_info": {
   "codemirror_mode": {
    "name": "ipython",
    "version": 3
   },
   "file_extension": ".py",
   "mimetype": "text/x-python",
   "name": "python",
   "nbconvert_exporter": "python",
   "pygments_lexer": "ipython3",
   "version": "3.10.3"
  },
  "orig_nbformat": 4,
  "vscode": {
   "interpreter": {
    "hash": "98590ff4fe04c8543246b2a01debd3de3c5ca9b666f43f1fa87d5110c692004c"
   }
  }
 },
 "nbformat": 4,
 "nbformat_minor": 2
}
