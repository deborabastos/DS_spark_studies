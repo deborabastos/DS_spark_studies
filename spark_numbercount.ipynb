{
 "cells": [
  {
   "cell_type": "code",
   "execution_count": 5,
   "metadata": {},
   "outputs": [],
   "source": [
    "import sys\n",
    "from operator import add\n",
    "from pyspark.sql import SparkSession"
   ]
  },
  {
   "cell_type": "code",
   "execution_count": 6,
   "metadata": {},
   "outputs": [
    {
     "name": "stdout",
     "output_type": "stream",
     "text": [
      "Number of partitions: 1\n"
     ]
    },
    {
     "name": "stderr",
     "output_type": "stream",
     "text": [
      "                                                                                \r"
     ]
    },
    {
     "name": "stdout",
     "output_type": "stream",
     "text": [
      "9 : 182438\n",
      "1 : 181721\n",
      "6 : 181970\n",
      "2 : 181732\n",
      "7 : 182479\n",
      "5 : 181443\n",
      "0 : 182089\n",
      "10 : 181186\n",
      "3 : 181449\n",
      "8 : 181986\n",
      "4 : 181507\n",
      " : 1\n"
     ]
    }
   ],
   "source": [
    "filename = \"./numbers.txt\"\n",
    "\n",
    "if __name__ == \"__main__\":\n",
    "    \n",
    "    spark = SparkSession \\\n",
    "        .builder \\\n",
    "        .appName(\"PythonNumberdCount\") \\\n",
    "        .master(\"local[*]\") \\\n",
    "        .getOrCreate()\n",
    "    \n",
    "    linesRDD = spark.read.text(filename).rdd.map(lambda r: r[0])\n",
    "    print(\"Number of partitions: {}\".format(linesRDD.getNumPartitions()))\n",
    "\n",
    "    counts = linesRDD.flatMap(lambda x: x.split(' ')) \\\n",
    "                    .map(lambda x: (x,1)) \\\n",
    "                    .reduceByKey(add)\n",
    "    \n",
    "\n",
    "    output = counts.collect()\n",
    "    for word, count in output:\n",
    "        print(\"%s : %i\" % (word, count))\n",
    "    \n",
    "    spark.stop()\n"
   ]
  }
 ],
 "metadata": {
  "kernelspec": {
   "display_name": "Python 3",
   "language": "python",
   "name": "python3"
  },
  "language_info": {
   "codemirror_mode": {
    "name": "ipython",
    "version": 3
   },
   "file_extension": ".py",
   "mimetype": "text/x-python",
   "name": "python",
   "nbconvert_exporter": "python",
   "pygments_lexer": "ipython3",
   "version": "3.10.3 (v3.10.3:a342a49189, Mar 16 2022, 09:34:18) [Clang 13.0.0 (clang-1300.0.29.30)]"
  },
  "orig_nbformat": 4,
  "vscode": {
   "interpreter": {
    "hash": "98590ff4fe04c8543246b2a01debd3de3c5ca9b666f43f1fa87d5110c692004c"
   }
  }
 },
 "nbformat": 4,
 "nbformat_minor": 2
}
